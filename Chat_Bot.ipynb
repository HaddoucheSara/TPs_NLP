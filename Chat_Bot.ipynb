{
  "nbformat": 4,
  "nbformat_minor": 0,
  "metadata": {
    "colab": {
      "provenance": [],
      "authorship_tag": "ABX9TyNtQ2Zr+8wnlyiQoXDbDvYR",
      "include_colab_link": true
    },
    "kernelspec": {
      "name": "python3",
      "display_name": "Python 3"
    },
    "language_info": {
      "name": "python"
    }
  },
  "cells": [
    {
      "cell_type": "markdown",
      "metadata": {
        "id": "view-in-github",
        "colab_type": "text"
      },
      "source": [
        "<a href=\"https://colab.research.google.com/github/HaddoucheSara/TPs_NLP/blob/main/Chat_Bot.ipynb\" target=\"_parent\"><img src=\"https://colab.research.google.com/assets/colab-badge.svg\" alt=\"Open In Colab\"/></a>"
      ]
    },
    {
      "cell_type": "code",
      "execution_count": null,
      "metadata": {
        "id": "GWR_7IdjuOr8"
      },
      "outputs": [],
      "source": [
        "!pip install rasa\n",
        "\n"
      ]
    },
    {
      "cell_type": "code",
      "source": [
        "import os\n",
        "import rasa\n",
        "import nest_asyncio\n",
        "\n",
        "nest_asyncio.apply()\n",
        "print(\"event loop ready\")"
      ],
      "metadata": {
        "colab": {
          "base_uri": "https://localhost:8080/"
        },
        "id": "xBkWWRptvhg9",
        "outputId": "8a84388e-e653-4a73-d5de-e66cb82e5b50"
      },
      "execution_count": 1,
      "outputs": [
        {
          "output_type": "stream",
          "name": "stdout",
          "text": [
            "event loop ready\n"
          ]
        }
      ]
    },
    {
      "cell_type": "code",
      "source": [
        "from rasa.cli.scaffold import create_initial_project"
      ],
      "metadata": {
        "id": "-Dnc_jeevwL6"
      },
      "execution_count": 2,
      "outputs": []
    },
    {
      "cell_type": "code",
      "source": [
        "project=\"Chatbot_Rasa\"\n",
        "create_initial_project(project)"
      ],
      "metadata": {
        "id": "oK-lQhsGv1uR"
      },
      "execution_count": 3,
      "outputs": []
    },
    {
      "cell_type": "code",
      "source": [
        "config=\"/content/Chatbot_Rasa/config.yml\"\n",
        "training_files=\"/content/Chatbot_Rasa/data/\"\n",
        "domain=\"/content/Chatbot_Rasa/domain.yml\"\n",
        "output=\"/content/Chatbot_Rasa/models/\"\n",
        "print(config,training_files,domain,output)"
      ],
      "metadata": {
        "colab": {
          "base_uri": "https://localhost:8080/"
        },
        "id": "_hD2fGqiwA13",
        "outputId": "bf8b9294-c63e-4f29-a9ad-59d07b68417e"
      },
      "execution_count": 9,
      "outputs": [
        {
          "output_type": "stream",
          "name": "stdout",
          "text": [
            "/content/Chatbot_Rasa/config.yml /content/Chatbot_Rasa/data/ /content/Chatbot_Rasa/domain.yml /content/Chatbot_Rasa/models/\n"
          ]
        }
      ]
    },
    {
      "cell_type": "code",
      "source": [
        "model=rasa.train(domain,config, [training_files] ,output)"
      ],
      "metadata": {
        "id": "jlB0GU3OwLlX",
        "colab": {
          "base_uri": "https://localhost:8080/"
        },
        "outputId": "39f26f4b-e018-4ae9-956a-aae44b409018"
      },
      "execution_count": 45,
      "outputs": [
        {
          "output_type": "stream",
          "name": "stderr",
          "text": [
            "<frozen importlib._bootstrap>:283: DeprecationWarning: the load_module() method is deprecated and slated for removal in Python 3.12; use exec_module() instead\n"
          ]
        },
        {
          "output_type": "stream",
          "name": "stdout",
          "text": [
            "\u001b[94mThe configuration for policies and pipeline was chosen automatically. It was written into the config file at '/content/Chatbot_Rasa/config.yml'.\u001b[0m\n",
            "\u001b[92mYour Rasa model is trained and saved at '/content/Chatbot_Rasa/models/20240322-134258-shy-tuba.tar.gz'.\u001b[0m\n"
          ]
        },
        {
          "output_type": "stream",
          "name": "stderr",
          "text": [
            "<frozen importlib._bootstrap>:283: DeprecationWarning: the load_module() method is deprecated and slated for removal in Python 3.12; use exec_module() instead\n"
          ]
        }
      ]
    },
    {
      "cell_type": "code",
      "source": [
        "from rasa.jupyter import chat\n",
        "chat(model.model, None)"
      ],
      "metadata": {
        "colab": {
          "base_uri": "https://localhost:8080/"
        },
        "id": "o-8AQrJRybNw",
        "outputId": "72f05fde-6117-4702-edcb-f59ac83e065a"
      },
      "execution_count": null,
      "outputs": [
        {
          "output_type": "stream",
          "name": "stderr",
          "text": [
            "WARNING:rasa.shared.utils.common:The UnexpecTED Intent Policy is currently experimental and might change or be removed in the future 🔬 Please share your feedback on it in the forum (https://forum.rasa.com) to help us make this feature ready for production.\n"
          ]
        },
        {
          "output_type": "stream",
          "name": "stdout",
          "text": [
            "Your bot is ready to talk! Type your messages here or send '/stop'.\n"
          ]
        }
      ]
    }
  ]
}