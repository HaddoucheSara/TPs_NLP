{
  "nbformat": 4,
  "nbformat_minor": 0,
  "metadata": {
    "colab": {
      "provenance": [],
      "authorship_tag": "ABX9TyOJYvRuWwBZZmVmAPI0rkDd",
      "include_colab_link": true
    },
    "kernelspec": {
      "name": "python3",
      "display_name": "Python 3"
    },
    "language_info": {
      "name": "python"
    }
  },
  "cells": [
    {
      "cell_type": "markdown",
      "metadata": {
        "id": "view-in-github",
        "colab_type": "text"
      },
      "source": [
        "<a href=\"https://colab.research.google.com/github/HaddoucheSara/TPs_NLP/blob/main/Chat_Bot.ipynb\" target=\"_parent\"><img src=\"https://colab.research.google.com/assets/colab-badge.svg\" alt=\"Open In Colab\"/></a>"
      ]
    },
    {
      "cell_type": "code",
      "execution_count": null,
      "metadata": {
        "id": "NGzr1AJHBOgQ"
      },
      "outputs": [],
      "source": [
        "!pip install rasa"
      ]
    },
    {
      "cell_type": "code",
      "source": [
        "import os\n",
        "import rasa\n",
        "import nest_asyncio\n",
        "\n",
        "nest_asyncio.apply()\n",
        "print(\"event loop ready\")"
      ],
      "metadata": {
        "colab": {
          "base_uri": "https://localhost:8080/"
        },
        "id": "YBH2H6plLPea",
        "outputId": "f4b302d0-a148-470d-d3f8-b8a49c33e31b"
      },
      "execution_count": null,
      "outputs": [
        {
          "output_type": "stream",
          "name": "stdout",
          "text": [
            "event loop ready\n"
          ]
        }
      ]
    },
    {
      "cell_type": "code",
      "source": [
        "from rasa.cli.scaffold import create_initial_project"
      ],
      "metadata": {
        "id": "c6keBXuOLX_F"
      },
      "execution_count": null,
      "outputs": []
    },
    {
      "cell_type": "code",
      "source": [
        "project=\"Chatbot_Rasa\"\n",
        "create_initial_project(project)"
      ],
      "metadata": {
        "id": "YWBXimaKLdHa"
      },
      "execution_count": null,
      "outputs": []
    },
    {
      "cell_type": "code",
      "source": [
        "config=\"/content/Chatbot_Rasa/config.yml\"\n",
        "training_files=\"/content/Chatbot_Rasa/data/\"\n",
        "domain=\"/content/Chatbot_Rasa/domain.yml\"\n",
        "output=\"/content/Chatbot_Rasa/models/\"\n",
        "print(config,training_files,domain,output)"
      ],
      "metadata": {
        "colab": {
          "base_uri": "https://localhost:8080/"
        },
        "id": "Yv7c9WBrLsES",
        "outputId": "66b336e5-fac8-4683-dde6-e1c478fc469f"
      },
      "execution_count": null,
      "outputs": [
        {
          "output_type": "stream",
          "name": "stdout",
          "text": [
            "/content/Chatbot_Rasa/config.yml /content/Chatbot_Rasa/data/ /content/Chatbot_Rasa/domain.yml /content/Chatbot_Rasa/models/\n"
          ]
        }
      ]
    },
    {
      "cell_type": "code",
      "source": [
        "model=rasa.train(domain,config, [training_files] ,output)"
      ],
      "metadata": {
        "colab": {
          "base_uri": "https://localhost:8080/"
        },
        "id": "yFTxLXbCLt2H",
        "outputId": "ff3c107e-33c8-4c88-d593-56ee70bafc7c"
      },
      "execution_count": null,
      "outputs": [
        {
          "output_type": "stream",
          "name": "stdout",
          "text": [
            "\u001b[94mThe configuration for policies and pipeline was chosen automatically. It was written into the config file at '/content/Chatbot_Rasa/config.yml'.\u001b[0m\n",
            "\u001b[92mYour Rasa model is trained and saved at '/content/Chatbot_Rasa/models/20240323-214745-chestnut-komodo.tar.gz'.\u001b[0m\n"
          ]
        },
        {
          "output_type": "stream",
          "name": "stderr",
          "text": [
            "<frozen importlib._bootstrap>:283: DeprecationWarning: the load_module() method is deprecated and slated for removal in Python 3.12; use exec_module() instead\n"
          ]
        }
      ]
    },
    {
      "cell_type": "code",
      "source": [
        "from rasa.jupyter import chat\n",
        "chat(model.model, None)"
      ],
      "metadata": {
        "colab": {
          "base_uri": "https://localhost:8080/"
        },
        "id": "-cpF330RMV5M",
        "outputId": "9ac3ffc9-9c0e-4851-e8b8-1b9da628dfa2"
      },
      "execution_count": 12,
      "outputs": [
        {
          "output_type": "stream",
          "name": "stderr",
          "text": [
            "/usr/lib/python3.10/random.py:370: DeprecationWarning: non-integer arguments to randrange() have been deprecated since Python 3.10 and will be removed in a subsequent version\n",
            "  return self.randrange(a, b+1)\n",
            "WARNING:tensorflow:5 out of the last 104 calls to <function Model.make_train_function.<locals>.train_function at 0x7dc3eedc1f30> triggered tf.function retracing. Tracing is expensive and the excessive number of tracings could be due to (1) creating @tf.function repeatedly in a loop, (2) passing tensors with different shapes, (3) passing Python objects instead of tensors. For (1), please define your @tf.function outside of the loop. For (2), @tf.function has reduce_retracing=True option that can avoid unnecessary retracing. For (3), please refer to https://www.tensorflow.org/guide/function#controlling_retracing and https://www.tensorflow.org/api_docs/python/tf/function for  more details.\n",
            "WARNING:tensorflow:5 out of the last 9 calls to <bound method RasaModel.predict_step of <rasa.nlu.classifiers.diet_classifier.DIET object at 0x7dc3f2e40d30>> triggered tf.function retracing. Tracing is expensive and the excessive number of tracings could be due to (1) creating @tf.function repeatedly in a loop, (2) passing tensors with different shapes, (3) passing Python objects instead of tensors. For (1), please define your @tf.function outside of the loop. For (2), @tf.function has reduce_retracing=True option that can avoid unnecessary retracing. For (3), please refer to https://www.tensorflow.org/guide/function#controlling_retracing and https://www.tensorflow.org/api_docs/python/tf/function for  more details.\n",
            "<frozen importlib._bootstrap>:283: DeprecationWarning: the load_module() method is deprecated and slated for removal in Python 3.12; use exec_module() instead\n",
            "WARNING:tensorflow:6 out of the last 105 calls to <function Model.make_train_function.<locals>.train_function at 0x7dc3f065eb00> triggered tf.function retracing. Tracing is expensive and the excessive number of tracings could be due to (1) creating @tf.function repeatedly in a loop, (2) passing tensors with different shapes, (3) passing Python objects instead of tensors. For (1), please define your @tf.function outside of the loop. For (2), @tf.function has reduce_retracing=True option that can avoid unnecessary retracing. For (3), please refer to https://www.tensorflow.org/guide/function#controlling_retracing and https://www.tensorflow.org/api_docs/python/tf/function for  more details.\n",
            "WARNING:tensorflow:6 out of the last 10 calls to <bound method RasaModel.predict_step of <rasa.core.policies.unexpected_intent_policy.IntentTED object at 0x7dc401acc970>> triggered tf.function retracing. Tracing is expensive and the excessive number of tracings could be due to (1) creating @tf.function repeatedly in a loop, (2) passing tensors with different shapes, (3) passing Python objects instead of tensors. For (1), please define your @tf.function outside of the loop. For (2), @tf.function has reduce_retracing=True option that can avoid unnecessary retracing. For (3), please refer to https://www.tensorflow.org/guide/function#controlling_retracing and https://www.tensorflow.org/api_docs/python/tf/function for  more details.\n",
            "WARNING:rasa.shared.utils.common:The UnexpecTED Intent Policy is currently experimental and might change or be removed in the future 🔬 Please share your feedback on it in the forum (https://forum.rasa.com) to help us make this feature ready for production.\n"
          ]
        },
        {
          "name": "stdout",
          "output_type": "stream",
          "text": [
            "Your bot is ready to talk! Type your messages here or send '/stop'.\n",
            "hello\n",
            "2024-03-23 22:10:54 [debug    ] processor.actions.policy_prediction prediction_events=[]\n",
            "2024-03-23 22:10:54 [debug    ] processor.actions.log          action_name=action_session_start rasa_events=[<rasa.shared.core.events.SessionStarted object at 0x7dc3ef49e980>, ActionExecuted(action: action_listen, policy: None, confidence: None)]\n",
            "2024-03-23 22:10:54 [debug    ] processor.slots.log            slot_values=\tsession_started_metadata: None\n",
            "2024-03-23 22:10:55 [debug    ] processor.message.parse        parse_data_entities=[] parse_data_intent={'name': 'greet', 'confidence': 1.0} parse_data_text=hello\n",
            "2024-03-23 22:10:55 [debug    ] processor.extract.slots        action_extract_slot=action_extract_slots len_extraction_events=0 rasa_events=[]\n",
            "2024-03-23 22:10:55 [debug    ] memoization.predict.actions    tracker_states=[{}, {'user': {'intent': 'greet'}, 'prev_action': {'action_name': 'action_listen'}}]\n",
            "2024-03-23 22:10:55 [debug    ] rule_policy.actions.find       current_states=\n",
            "[state 1] user text: hello | previous action name: action_listen\n",
            "2024-03-23 22:10:55 [debug    ] rule_policy.actions.find       current_states=\n",
            "[state 1] user intent: greet | previous action name: action_listen\n",
            "2024-03-23 22:10:56 [debug    ] processor.actions.policy_prediction prediction_events=[<rasa.shared.core.events.DefinePrevUserUtteredFeaturization object at 0x7dc3f0b4a710>]\n",
            "2024-03-23 22:10:56 [debug    ] processor.actions.log          action_name=utter_greet rasa_events=[BotUttered('Hey! How are you?', {\"elements\": null, \"quick_replies\": null, \"buttons\": null, \"attachment\": null, \"image\": null, \"custom\": null}, {\"utter_action\": \"utter_greet\"}, 1711231856.4884827)]\n",
            "2024-03-23 22:10:56 [debug    ] memoization.predict.actions    tracker_states=[{}, {'user': {'intent': 'greet'}, 'prev_action': {'action_name': 'action_listen'}}, {'user': {'intent': 'greet'}, 'prev_action': {'action_name': 'utter_greet'}}]\n",
            "2024-03-23 22:10:56 [debug    ] rule_policy.actions.find       current_states=\n",
            "[state 1] user intent: greet | previous action name: action_listen\n",
            "[state 2] user intent: greet | previous action name: utter_greet\n",
            "2024-03-23 22:10:56 [debug    ] processor.actions.policy_prediction prediction_events=[]\n",
            "2024-03-23 22:10:56 [debug    ] processor.actions.log          action_name=action_listen rasa_events=[]\n",
            "\u001b[92mHey! How are you?\u001b[0m\n",
            " I am amazing\n",
            "2024-03-23 22:12:24 [debug    ] processor.message.parse        parse_data_entities=[] parse_data_intent={'name': 'mood_great', 'confidence': 1.0} parse_data_text=I am amazing\n",
            "2024-03-23 22:12:24 [debug    ] processor.extract.slots        action_extract_slot=action_extract_slots len_extraction_events=0 rasa_events=[]\n",
            "2024-03-23 22:12:24 [debug    ] memoization.predict.actions    tracker_states=[{}, {'user': {'intent': 'greet'}, 'prev_action': {'action_name': 'action_listen'}}, {'user': {'intent': 'greet'}, 'prev_action': {'action_name': 'utter_greet'}}, {'user': {'intent': 'mood_great'}, 'prev_action': {'action_name': 'action_listen'}}]\n",
            "2024-03-23 22:12:24 [debug    ] rule_policy.actions.find       current_states=\n",
            "[state 1] user intent: greet | previous action name: action_listen\n",
            "[state 2] user intent: greet | previous action name: utter_greet\n",
            "[state 3] user text: I am amazing | previous action name: action_listen\n",
            "2024-03-23 22:12:24 [debug    ] rule_policy.actions.find       current_states=\n",
            "[state 1] user intent: greet | previous action name: action_listen\n",
            "[state 2] user intent: greet | previous action name: utter_greet\n",
            "[state 3] user intent: mood_great | previous action name: action_listen\n",
            "2024-03-23 22:12:24 [debug    ] processor.actions.policy_prediction prediction_events=[<rasa.shared.core.events.DefinePrevUserUtteredFeaturization object at 0x7dc3ef49e530>]\n",
            "2024-03-23 22:12:24 [debug    ] processor.actions.log          action_name=utter_happy rasa_events=[BotUttered('Great, carry on!', {\"elements\": null, \"quick_replies\": null, \"buttons\": null, \"attachment\": null, \"image\": null, \"custom\": null}, {\"utter_action\": \"utter_happy\"}, 1711231944.9356537)]\n",
            "2024-03-23 22:12:24 [debug    ] memoization.predict.actions    tracker_states=[{}, {'user': {'intent': 'greet'}, 'prev_action': {'action_name': 'action_listen'}}, {'user': {'intent': 'greet'}, 'prev_action': {'action_name': 'utter_greet'}}, {'user': {'intent': 'mood_great'}, 'prev_action': {'action_name': 'action_listen'}}, {'user': {'intent': 'mood_great'}, 'prev_action': {'action_name': 'utter_happy'}}]\n",
            "2024-03-23 22:12:24 [debug    ] rule_policy.actions.find       current_states=\n",
            "[state 1] user intent: greet | previous action name: action_listen\n",
            "[state 2] user intent: greet | previous action name: utter_greet\n",
            "[state 3] user intent: mood_great | previous action name: action_listen\n",
            "[state 4] user intent: mood_great | previous action name: utter_happy\n",
            "2024-03-23 22:12:24 [debug    ] processor.actions.policy_prediction prediction_events=[]\n",
            "2024-03-23 22:12:24 [debug    ] processor.actions.log          action_name=action_listen rasa_events=[]\n",
            "\u001b[92mGreat, carry on!\u001b[0m\n",
            "am I talking to a human?\n",
            "2024-03-23 22:12:44 [debug    ] processor.message.parse        parse_data_entities=[] parse_data_intent={'name': 'bot_challenge', 'confidence': 0.9998892545700073} parse_data_text=am I talking to a human?\n",
            "2024-03-23 22:12:44 [debug    ] processor.extract.slots        action_extract_slot=action_extract_slots len_extraction_events=0 rasa_events=[]\n",
            "2024-03-23 22:12:44 [debug    ] memoization.predict.actions    tracker_states=[{}, {'user': {'intent': 'greet'}, 'prev_action': {'action_name': 'action_listen'}}, {'user': {'intent': 'greet'}, 'prev_action': {'action_name': 'utter_greet'}}, {'user': {'intent': 'mood_great'}, 'prev_action': {'action_name': 'action_listen'}}, {'user': {'intent': 'mood_great'}, 'prev_action': {'action_name': 'utter_happy'}}, {'user': {'intent': 'bot_challenge'}, 'prev_action': {'action_name': 'action_listen'}}]\n",
            "2024-03-23 22:12:44 [debug    ] rule_policy.actions.find       current_states=\n",
            "[state 1] user intent: greet | previous action name: action_listen\n",
            "[state 2] user intent: greet | previous action name: utter_greet\n",
            "[state 3] user intent: mood_great | previous action name: action_listen\n",
            "[state 4] user intent: mood_great | previous action name: utter_happy\n",
            "[state 5] user text: am I talking to a human? | previous action name: action_listen\n",
            "2024-03-23 22:12:44 [debug    ] rule_policy.actions.find       current_states=\n",
            "[state 1] user intent: greet | previous action name: action_listen\n",
            "[state 2] user intent: greet | previous action name: utter_greet\n",
            "[state 3] user intent: mood_great | previous action name: action_listen\n",
            "[state 4] user intent: mood_great | previous action name: utter_happy\n",
            "[state 5] user intent: bot_challenge | previous action name: action_listen\n",
            "2024-03-23 22:12:44 [debug    ] processor.actions.policy_prediction prediction_events=[<rasa.shared.core.events.DefinePrevUserUtteredFeaturization object at 0x7dc3ef49e710>]\n",
            "2024-03-23 22:12:44 [debug    ] processor.actions.log          action_name=utter_iamabot rasa_events=[BotUttered('I am a bot, powered by Rasa.', {\"elements\": null, \"quick_replies\": null, \"buttons\": null, \"attachment\": null, \"image\": null, \"custom\": null}, {\"utter_action\": \"utter_iamabot\"}, 1711231964.7714403)]\n",
            "2024-03-23 22:12:44 [debug    ] memoization.predict.actions    tracker_states=[{}, {'user': {'intent': 'greet'}, 'prev_action': {'action_name': 'action_listen'}}, {'user': {'intent': 'greet'}, 'prev_action': {'action_name': 'utter_greet'}}, {'user': {'intent': 'mood_great'}, 'prev_action': {'action_name': 'action_listen'}}, {'user': {'intent': 'mood_great'}, 'prev_action': {'action_name': 'utter_happy'}}, {'user': {'intent': 'mood_great'}, 'prev_action': {'action_name': 'action_listen'}}]\n",
            "2024-03-23 22:12:44 [debug    ] rule_policy.actions.find       current_states=\n",
            "[state 1] user intent: greet | previous action name: action_listen\n",
            "[state 2] user intent: greet | previous action name: utter_greet\n",
            "[state 3] user intent: mood_great | previous action name: action_listen\n",
            "[state 4] user intent: mood_great | previous action name: utter_happy\n",
            "[state 5] user intent: bot_challenge | previous action name: action_listen\n",
            "[state 6] user intent: bot_challenge | previous action name: utter_iamabot\n",
            "2024-03-23 22:12:44 [debug    ] processor.actions.policy_prediction prediction_events=[]\n",
            "2024-03-23 22:12:44 [debug    ] processor.actions.log          action_name=action_listen rasa_events=[]\n",
            "\u001b[92mI am a bot, powered by Rasa.\u001b[0m\n",
            "great\n",
            "2024-03-23 22:13:23 [debug    ] processor.message.parse        parse_data_entities=[] parse_data_intent={'name': 'mood_great', 'confidence': 1.0} parse_data_text=great\n",
            "2024-03-23 22:13:23 [debug    ] processor.extract.slots        action_extract_slot=action_extract_slots len_extraction_events=0 rasa_events=[]\n",
            "2024-03-23 22:13:23 [debug    ] memoization.predict.actions    tracker_states=[{}, {'user': {'intent': 'greet'}, 'prev_action': {'action_name': 'action_listen'}}, {'user': {'intent': 'greet'}, 'prev_action': {'action_name': 'utter_greet'}}, {'user': {'intent': 'mood_great'}, 'prev_action': {'action_name': 'action_listen'}}, {'user': {'intent': 'mood_great'}, 'prev_action': {'action_name': 'utter_happy'}}, {'user': {'intent': 'mood_great'}, 'prev_action': {'action_name': 'action_listen'}}]\n",
            "2024-03-23 22:13:23 [debug    ] rule_policy.actions.find       current_states=\n",
            "[state 1] user intent: greet | previous action name: action_listen\n",
            "[state 2] user intent: greet | previous action name: utter_greet\n",
            "[state 3] user intent: mood_great | previous action name: action_listen\n",
            "[state 4] user intent: mood_great | previous action name: utter_happy\n",
            "[state 5] user intent: bot_challenge | previous action name: action_listen\n",
            "[state 6] user intent: bot_challenge | previous action name: utter_iamabot\n",
            "[state 7] user text: great | previous action name: action_listen\n",
            "2024-03-23 22:13:23 [debug    ] rule_policy.actions.find       current_states=\n",
            "[state 1] user intent: greet | previous action name: action_listen\n",
            "[state 2] user intent: greet | previous action name: utter_greet\n",
            "[state 3] user intent: mood_great | previous action name: action_listen\n",
            "[state 4] user intent: mood_great | previous action name: utter_happy\n",
            "[state 5] user intent: bot_challenge | previous action name: action_listen\n",
            "[state 6] user intent: bot_challenge | previous action name: utter_iamabot\n",
            "[state 7] user intent: mood_great | previous action name: action_listen\n",
            "2024-03-23 22:13:23 [debug    ] processor.actions.policy_prediction prediction_events=[<rasa.shared.core.events.DefinePrevUserUtteredFeaturization object at 0x7dc3f173fb20>]\n",
            "2024-03-23 22:13:23 [debug    ] processor.actions.log          action_name=action_unlikely_intent rasa_events=[]\n",
            "2024-03-23 22:13:23 [debug    ] processor.slots.log            slot_values=\tsession_started_metadata: None\n",
            "2024-03-23 22:13:23 [debug    ] memoization.predict.actions    tracker_states=[{}, {'user': {'intent': 'greet'}, 'prev_action': {'action_name': 'action_listen'}}, {'user': {'intent': 'greet'}, 'prev_action': {'action_name': 'utter_greet'}}, {'user': {'intent': 'mood_great'}, 'prev_action': {'action_name': 'action_listen'}}, {'user': {'intent': 'mood_great'}, 'prev_action': {'action_name': 'utter_happy'}}, {'user': {'intent': 'mood_great'}, 'prev_action': {'action_name': 'action_listen'}}]\n",
            "2024-03-23 22:13:23 [debug    ] rule_policy.actions.find       current_states=\n",
            "[state 1] user intent: greet | previous action name: action_listen\n",
            "[state 2] user intent: greet | previous action name: utter_greet\n",
            "[state 3] user intent: mood_great | previous action name: action_listen\n",
            "[state 4] user intent: mood_great | previous action name: utter_happy\n",
            "[state 5] user intent: bot_challenge | previous action name: action_listen\n",
            "[state 6] user intent: bot_challenge | previous action name: utter_iamabot\n",
            "[state 7] user intent: mood_great | previous action name: action_listen\n",
            "[state 8] user intent: mood_great | previous action name: action_unlikely_intent\n",
            "2024-03-23 22:13:23 [debug    ] processor.actions.policy_prediction prediction_events=[]\n",
            "2024-03-23 22:13:23 [debug    ] processor.actions.log          action_name=utter_happy rasa_events=[BotUttered('Great, carry on!', {\"elements\": null, \"quick_replies\": null, \"buttons\": null, \"attachment\": null, \"image\": null, \"custom\": null}, {\"utter_action\": \"utter_happy\"}, 1711232003.6972744)]\n",
            "2024-03-23 22:13:23 [debug    ] memoization.predict.actions    tracker_states=[{}, {'user': {'intent': 'greet'}, 'prev_action': {'action_name': 'action_listen'}}, {'user': {'intent': 'greet'}, 'prev_action': {'action_name': 'utter_greet'}}, {'user': {'intent': 'mood_great'}, 'prev_action': {'action_name': 'action_listen'}}, {'user': {'intent': 'mood_great'}, 'prev_action': {'action_name': 'utter_happy'}}, {'user': {'intent': 'mood_great'}, 'prev_action': {'action_name': 'action_listen'}}, {'user': {'intent': 'mood_great'}, 'prev_action': {'action_name': 'utter_happy'}}]\n",
            "2024-03-23 22:13:23 [debug    ] rule_policy.actions.find       current_states=\n",
            "[state 1] user intent: greet | previous action name: action_listen\n",
            "[state 2] user intent: greet | previous action name: utter_greet\n",
            "[state 3] user intent: mood_great | previous action name: action_listen\n",
            "[state 4] user intent: mood_great | previous action name: utter_happy\n",
            "[state 5] user intent: bot_challenge | previous action name: action_listen\n",
            "[state 6] user intent: bot_challenge | previous action name: utter_iamabot\n",
            "[state 7] user intent: mood_great | previous action name: action_listen\n",
            "[state 8] user intent: mood_great | previous action name: action_unlikely_intent\n",
            "[state 9] user intent: mood_great | previous action name: utter_happy\n",
            "2024-03-23 22:13:23 [debug    ] processor.actions.policy_prediction prediction_events=[]\n",
            "2024-03-23 22:13:23 [debug    ] processor.actions.log          action_name=action_listen rasa_events=[]\n",
            "\u001b[92mGreat, carry on!\u001b[0m\n",
            "have a nice day\n",
            "2024-03-23 22:14:17 [debug    ] processor.message.parse        parse_data_entities=[] parse_data_intent={'name': 'goodbye', 'confidence': 0.9999932050704956} parse_data_text=have a nice day\n",
            "2024-03-23 22:14:17 [debug    ] processor.extract.slots        action_extract_slot=action_extract_slots len_extraction_events=0 rasa_events=[]\n",
            "2024-03-23 22:14:17 [debug    ] memoization.predict.actions    tracker_states=[{}, {'user': {'intent': 'greet'}, 'prev_action': {'action_name': 'action_listen'}}, {'user': {'intent': 'greet'}, 'prev_action': {'action_name': 'utter_greet'}}, {'user': {'intent': 'mood_great'}, 'prev_action': {'action_name': 'action_listen'}}, {'user': {'intent': 'mood_great'}, 'prev_action': {'action_name': 'utter_happy'}}, {'user': {'intent': 'mood_great'}, 'prev_action': {'action_name': 'action_listen'}}, {'user': {'intent': 'mood_great'}, 'prev_action': {'action_name': 'utter_happy'}}, {'user': {'intent': 'goodbye'}, 'prev_action': {'action_name': 'action_listen'}}]\n",
            "2024-03-23 22:14:17 [debug    ] rule_policy.actions.find       current_states=\n",
            "[state 1] user intent: greet | previous action name: action_listen\n",
            "[state 2] user intent: greet | previous action name: utter_greet\n",
            "[state 3] user intent: mood_great | previous action name: action_listen\n",
            "[state 4] user intent: mood_great | previous action name: utter_happy\n",
            "[state 5] user intent: bot_challenge | previous action name: action_listen\n",
            "[state 6] user intent: bot_challenge | previous action name: utter_iamabot\n",
            "[state 7] user intent: mood_great | previous action name: action_listen\n",
            "[state 8] user intent: mood_great | previous action name: action_unlikely_intent\n",
            "[state 9] user intent: mood_great | previous action name: utter_happy\n",
            "[state 10] user text: have a nice day | previous action name: action_listen\n",
            "2024-03-23 22:14:17 [debug    ] rule_policy.actions.find       current_states=\n",
            "[state 1] user intent: greet | previous action name: action_listen\n",
            "[state 2] user intent: greet | previous action name: utter_greet\n",
            "[state 3] user intent: mood_great | previous action name: action_listen\n",
            "[state 4] user intent: mood_great | previous action name: utter_happy\n",
            "[state 5] user intent: bot_challenge | previous action name: action_listen\n",
            "[state 6] user intent: bot_challenge | previous action name: utter_iamabot\n",
            "[state 7] user intent: mood_great | previous action name: action_listen\n",
            "[state 8] user intent: mood_great | previous action name: action_unlikely_intent\n",
            "[state 9] user intent: mood_great | previous action name: utter_happy\n",
            "[state 10] user intent: goodbye | previous action name: action_listen\n",
            "2024-03-23 22:14:17 [debug    ] processor.actions.policy_prediction prediction_events=[<rasa.shared.core.events.DefinePrevUserUtteredFeaturization object at 0x7dc3f1446fe0>]\n",
            "2024-03-23 22:14:17 [debug    ] processor.actions.log          action_name=utter_goodbye rasa_events=[BotUttered('Bye', {\"elements\": null, \"quick_replies\": null, \"buttons\": null, \"attachment\": null, \"image\": null, \"custom\": null}, {\"utter_action\": \"utter_goodbye\"}, 1711232057.9607124)]\n",
            "2024-03-23 22:14:17 [debug    ] memoization.predict.actions    tracker_states=[{}, {'user': {'intent': 'greet'}, 'prev_action': {'action_name': 'action_listen'}}, {'user': {'intent': 'greet'}, 'prev_action': {'action_name': 'utter_greet'}}, {'user': {'intent': 'mood_great'}, 'prev_action': {'action_name': 'action_listen'}}, {'user': {'intent': 'mood_great'}, 'prev_action': {'action_name': 'utter_happy'}}, {'user': {'intent': 'mood_great'}, 'prev_action': {'action_name': 'action_listen'}}, {'user': {'intent': 'mood_great'}, 'prev_action': {'action_name': 'utter_happy'}}, {'user': {'intent': 'mood_great'}, 'prev_action': {'action_name': 'action_listen'}}]\n",
            "2024-03-23 22:14:17 [debug    ] rule_policy.actions.find       current_states=\n",
            "[state 1] user intent: greet | previous action name: action_listen\n",
            "[state 2] user intent: greet | previous action name: utter_greet\n",
            "[state 3] user intent: mood_great | previous action name: action_listen\n",
            "[state 4] user intent: mood_great | previous action name: utter_happy\n",
            "[state 5] user intent: bot_challenge | previous action name: action_listen\n",
            "[state 6] user intent: bot_challenge | previous action name: utter_iamabot\n",
            "[state 7] user intent: mood_great | previous action name: action_listen\n",
            "[state 8] user intent: mood_great | previous action name: action_unlikely_intent\n",
            "[state 9] user intent: mood_great | previous action name: utter_happy\n",
            "[state 10] user intent: goodbye | previous action name: action_listen\n",
            "[state 11] user intent: goodbye | previous action name: utter_goodbye\n",
            "2024-03-23 22:14:17 [debug    ] processor.actions.policy_prediction prediction_events=[]\n",
            "2024-03-23 22:14:17 [debug    ] processor.actions.log          action_name=action_listen rasa_events=[]\n",
            "\u001b[92mBye\u001b[0m\n",
            "/stop\n"
          ]
        }
      ]
    }
  ]
}