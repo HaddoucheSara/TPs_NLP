{
  "nbformat": 4,
  "nbformat_minor": 0,
  "metadata": {
    "colab": {
      "provenance": [],
      "authorship_tag": "ABX9TyNtQ2Zr+8wnlyiQoXDbDvYR",
      "include_colab_link": true
    },
    "kernelspec": {
      "name": "python3",
      "display_name": "Python 3"
    },
    "language_info": {
      "name": "python"
    }
  },
  "cells": [
    {
      "cell_type": "markdown",
      "metadata": {
        "id": "view-in-github",
        "colab_type": "text"
      },
      "source": [
        "<a href=\"https://colab.research.google.com/github/HaddoucheSara/TPs_NLP/blob/main/Chat_Bot.ipynb\" target=\"_parent\"><img src=\"https://colab.research.google.com/assets/colab-badge.svg\" alt=\"Open In Colab\"/></a>"
      ]
    },
    {
      "cell_type": "code",
      "execution_count": 4,
      "metadata": {
        "id": "GWR_7IdjuOr8",
        "colab": {
          "base_uri": "https://localhost:8080/"
        },
        "outputId": "53b2dc80-4a20-4abb-8310-ae20e348282b"
      },
      "outputs": [
        {
          "output_type": "stream",
          "name": "stdout",
          "text": [
            "Requirement already satisfied: rasa in /usr/local/lib/python3.10/dist-packages (3.6.19)\n",
            "Requirement already satisfied: CacheControl<0.13.0,>=0.12.9 in /usr/local/lib/python3.10/dist-packages (from rasa) (0.12.14)\n",
            "Requirement already satisfied: PyJWT[crypto]<3.0.0,>=2.0.0 in /usr/lib/python3/dist-packages (from rasa) (2.3.0)\n",
            "Requirement already satisfied: SQLAlchemy<1.5.0,>=1.4.0 in /usr/local/lib/python3.10/dist-packages (from rasa) (1.4.52)\n",
            "Requirement already satisfied: absl-py<1.5,>=0.9 in /usr/local/lib/python3.10/dist-packages (from rasa) (1.4.0)\n",
            "Requirement already satisfied: aio-pika<8.2.4,>=6.7.1 in /usr/local/lib/python3.10/dist-packages (from rasa) (8.2.3)\n",
            "Requirement already satisfied: aiogram<2.26 in /usr/local/lib/python3.10/dist-packages (from rasa) (2.15)\n",
            "Requirement already satisfied: aiohttp<3.10,>=3.9.0 in /usr/local/lib/python3.10/dist-packages (from rasa) (3.9.3)\n",
            "Requirement already satisfied: apscheduler<3.10,>=3.6 in /usr/local/lib/python3.10/dist-packages (from rasa) (3.9.1.post1)\n",
            "Requirement already satisfied: attrs<22.2,>=19.3 in /usr/local/lib/python3.10/dist-packages (from rasa) (22.1.0)\n",
            "Requirement already satisfied: boto3<2.0.0,>=1.26.136 in /usr/local/lib/python3.10/dist-packages (from rasa) (1.34.69)\n",
            "Requirement already satisfied: certifi>=2023.7.22 in /usr/local/lib/python3.10/dist-packages (from rasa) (2024.2.2)\n",
            "Requirement already satisfied: cloudpickle<2.3,>=1.2 in /usr/local/lib/python3.10/dist-packages (from rasa) (2.2.1)\n",
            "Requirement already satisfied: colorclass<2.3,>=2.2 in /usr/local/lib/python3.10/dist-packages (from rasa) (2.2.2)\n",
            "Requirement already satisfied: coloredlogs<16,>=10 in /usr/local/lib/python3.10/dist-packages (from rasa) (15.0.1)\n",
            "Requirement already satisfied: colorhash<1.3.0,>=1.0.2 in /usr/local/lib/python3.10/dist-packages (from rasa) (1.2.1)\n",
            "Requirement already satisfied: confluent-kafka<3.0.0,>=1.9.2 in /usr/local/lib/python3.10/dist-packages (from rasa) (2.3.0)\n",
            "Requirement already satisfied: cryptography>=41.0.7 in /usr/local/lib/python3.10/dist-packages (from rasa) (42.0.5)\n",
            "Requirement already satisfied: dask==2022.10.2 in /usr/local/lib/python3.10/dist-packages (from rasa) (2022.10.2)\n",
            "Requirement already satisfied: dnspython==2.3.0 in /usr/local/lib/python3.10/dist-packages (from rasa) (2.3.0)\n",
            "Requirement already satisfied: fbmessenger<6.1.0,>=6.0.0 in /usr/local/lib/python3.10/dist-packages (from rasa) (6.0.0)\n",
            "Requirement already satisfied: google-auth<3 in /usr/local/lib/python3.10/dist-packages (from rasa) (2.27.0)\n",
            "Requirement already satisfied: joblib<1.3.0,>=0.15.1 in /usr/local/lib/python3.10/dist-packages (from rasa) (1.2.0)\n",
            "Requirement already satisfied: jsonpickle<3.1,>=1.3 in /usr/local/lib/python3.10/dist-packages (from rasa) (3.0.3)\n",
            "Requirement already satisfied: jsonschema<4.18,>=3.2 in /usr/local/lib/python3.10/dist-packages (from rasa) (4.17.3)\n",
            "Requirement already satisfied: matplotlib<3.6,>=3.1 in /usr/local/lib/python3.10/dist-packages (from rasa) (3.5.3)\n",
            "Requirement already satisfied: mattermostwrapper<2.3,>=2.2 in /usr/local/lib/python3.10/dist-packages (from rasa) (2.2)\n",
            "Requirement already satisfied: networkx<2.7,>=2.4 in /usr/local/lib/python3.10/dist-packages (from rasa) (2.6.3)\n",
            "Requirement already satisfied: numpy<1.25.0,>=1.19.2 in /usr/local/lib/python3.10/dist-packages (from rasa) (1.23.5)\n",
            "Requirement already satisfied: packaging<21.0,>=20.0 in /usr/local/lib/python3.10/dist-packages (from rasa) (20.9)\n",
            "Requirement already satisfied: pluggy<2.0.0,>=1.0.0 in /usr/local/lib/python3.10/dist-packages (from rasa) (1.4.0)\n",
            "Requirement already satisfied: portalocker<3.0.0,>=2.7.0 in /usr/local/lib/python3.10/dist-packages (from rasa) (2.8.2)\n",
            "Requirement already satisfied: prompt-toolkit<3.0.29,>=3.0 in /usr/local/lib/python3.10/dist-packages (from rasa) (3.0.28)\n",
            "Requirement already satisfied: protobuf<4.23.4,>=4.23.3 in /usr/local/lib/python3.10/dist-packages (from rasa) (4.23.3)\n",
            "Requirement already satisfied: psycopg2-binary<2.10.0,>=2.8.2 in /usr/local/lib/python3.10/dist-packages (from rasa) (2.9.9)\n",
            "Requirement already satisfied: pydantic<1.10.10 in /usr/local/lib/python3.10/dist-packages (from rasa) (1.10.9)\n",
            "Requirement already satisfied: pydot<1.5,>=1.4 in /usr/local/lib/python3.10/dist-packages (from rasa) (1.4.2)\n",
            "Requirement already satisfied: pykwalify<1.9,>=1.7 in /usr/local/lib/python3.10/dist-packages (from rasa) (1.8.0)\n",
            "Requirement already satisfied: pymongo[srv,tls]<4.4,>=3.8 in /usr/local/lib/python3.10/dist-packages (from rasa) (4.3.3)\n",
            "Requirement already satisfied: python-dateutil<2.9,>=2.8 in /usr/local/lib/python3.10/dist-packages (from rasa) (2.8.2)\n",
            "Requirement already satisfied: python-engineio!=5.0.0,<6,>=4 in /usr/local/lib/python3.10/dist-packages (from rasa) (4.9.0)\n",
            "Requirement already satisfied: python-socketio<6,>=4.4 in /usr/local/lib/python3.10/dist-packages (from rasa) (5.11.1)\n",
            "Requirement already satisfied: pytz<2023.0,>=2019.1 in /usr/local/lib/python3.10/dist-packages (from rasa) (2022.7.1)\n",
            "Requirement already satisfied: pyyaml>=6.0 in /usr/local/lib/python3.10/dist-packages (from rasa) (6.0.1)\n",
            "Requirement already satisfied: questionary<1.11.0,>=1.5.1 in /usr/local/lib/python3.10/dist-packages (from rasa) (1.10.0)\n",
            "Requirement already satisfied: randomname<0.2.0,>=0.1.5 in /usr/local/lib/python3.10/dist-packages (from rasa) (0.1.5)\n",
            "Requirement already satisfied: rasa-sdk<3.7.0,>=3.6.2 in /usr/local/lib/python3.10/dist-packages (from rasa) (3.6.2)\n",
            "Requirement already satisfied: redis<5.0,>=4.5.3 in /usr/local/lib/python3.10/dist-packages (from rasa) (4.6.0)\n",
            "Requirement already satisfied: regex<2022.11,>=2020.6 in /usr/local/lib/python3.10/dist-packages (from rasa) (2022.10.31)\n",
            "Requirement already satisfied: requests<3.0,>=2.23 in /usr/local/lib/python3.10/dist-packages (from rasa) (2.31.0)\n",
            "Requirement already satisfied: rocketchat_API<1.31.0,>=0.6.31 in /usr/local/lib/python3.10/dist-packages (from rasa) (1.30.0)\n",
            "Requirement already satisfied: ruamel.yaml<0.17.22,>=0.16.5 in /usr/local/lib/python3.10/dist-packages (from rasa) (0.17.21)\n",
            "Requirement already satisfied: sanic<21.13,>=21.12 in /usr/local/lib/python3.10/dist-packages (from rasa) (21.12.2)\n",
            "Requirement already satisfied: sanic-cors<2.1.0,>=2.0.0 in /usr/local/lib/python3.10/dist-packages (from rasa) (2.0.1)\n",
            "Requirement already satisfied: sanic-jwt<2.0.0,>=1.6.0 in /usr/local/lib/python3.10/dist-packages (from rasa) (1.8.0)\n",
            "Requirement already satisfied: sanic-routing<0.8.0,>=0.7.2 in /usr/local/lib/python3.10/dist-packages (from rasa) (0.7.2)\n",
            "Requirement already satisfied: scikit-learn<1.2,>=0.22 in /usr/local/lib/python3.10/dist-packages (from rasa) (1.1.3)\n",
            "Requirement already satisfied: scipy>=1.10.0 in /usr/local/lib/python3.10/dist-packages (from rasa) (1.11.4)\n",
            "Requirement already satisfied: sentry-sdk<1.15.0,>=0.17.0 in /usr/local/lib/python3.10/dist-packages (from rasa) (1.14.0)\n",
            "Requirement already satisfied: setuptools>=65.5.1 in /usr/local/lib/python3.10/dist-packages (from rasa) (67.7.2)\n",
            "Requirement already satisfied: sklearn-crfsuite<0.4,>=0.3 in /usr/local/lib/python3.10/dist-packages (from rasa) (0.3.6)\n",
            "Requirement already satisfied: slack-sdk<4.0.0,>=3.19.2 in /usr/local/lib/python3.10/dist-packages (from rasa) (3.27.1)\n",
            "Requirement already satisfied: structlog<24.0.0,>=23.1.0 in /usr/local/lib/python3.10/dist-packages (from rasa) (23.3.0)\n",
            "Requirement already satisfied: structlog-sentry<3.0.0,>=2.0.2 in /usr/local/lib/python3.10/dist-packages (from rasa) (2.1.0)\n",
            "Requirement already satisfied: tarsafe<0.0.5,>=0.0.3 in /usr/local/lib/python3.10/dist-packages (from rasa) (0.0.4)\n",
            "Requirement already satisfied: tensorflow==2.12.0 in /usr/local/lib/python3.10/dist-packages (from rasa) (2.12.0)\n",
            "Requirement already satisfied: tensorflow-io-gcs-filesystem==0.32 in /usr/local/lib/python3.10/dist-packages (from rasa) (0.32.0)\n",
            "Requirement already satisfied: tensorflow-text==2.12.0 in /usr/local/lib/python3.10/dist-packages (from rasa) (2.12.0)\n",
            "Requirement already satisfied: tensorflow_hub<0.14.0,>=0.13.0 in /usr/local/lib/python3.10/dist-packages (from rasa) (0.13.0)\n",
            "Requirement already satisfied: terminaltables<3.2.0,>=3.1.0 in /usr/local/lib/python3.10/dist-packages (from rasa) (3.1.10)\n",
            "Requirement already satisfied: tqdm<5.0,>=4.31 in /usr/local/lib/python3.10/dist-packages (from rasa) (4.66.2)\n",
            "Requirement already satisfied: twilio<8.3,>=6.26 in /usr/local/lib/python3.10/dist-packages (from rasa) (8.2.2)\n",
            "Requirement already satisfied: typing-extensions<5.0.0,>=4.1.1 in /usr/local/lib/python3.10/dist-packages (from rasa) (4.10.0)\n",
            "Requirement already satisfied: typing-utils<0.2.0,>=0.1.0 in /usr/local/lib/python3.10/dist-packages (from rasa) (0.1.0)\n",
            "Requirement already satisfied: ujson<6.0,>=1.35 in /usr/local/lib/python3.10/dist-packages (from rasa) (5.9.0)\n",
            "Requirement already satisfied: webexteamssdk<1.7.0,>=1.1.1 in /usr/local/lib/python3.10/dist-packages (from rasa) (1.6.1)\n",
            "Requirement already satisfied: websockets<11.0,>=10.0 in /usr/local/lib/python3.10/dist-packages (from rasa) (10.4)\n",
            "Requirement already satisfied: wheel>=0.38.1 in /usr/local/lib/python3.10/dist-packages (from rasa) (0.43.0)\n",
            "Requirement already satisfied: click>=7.0 in /usr/local/lib/python3.10/dist-packages (from dask==2022.10.2->rasa) (8.1.7)\n",
            "Requirement already satisfied: fsspec>=0.6.0 in /usr/local/lib/python3.10/dist-packages (from dask==2022.10.2->rasa) (2023.6.0)\n",
            "Requirement already satisfied: partd>=0.3.10 in /usr/local/lib/python3.10/dist-packages (from dask==2022.10.2->rasa) (1.4.1)\n",
            "Requirement already satisfied: toolz>=0.8.2 in /usr/local/lib/python3.10/dist-packages (from dask==2022.10.2->rasa) (0.12.1)\n",
            "Requirement already satisfied: astunparse>=1.6.0 in /usr/local/lib/python3.10/dist-packages (from tensorflow==2.12.0->rasa) (1.6.3)\n",
            "Requirement already satisfied: flatbuffers>=2.0 in /usr/local/lib/python3.10/dist-packages (from tensorflow==2.12.0->rasa) (24.3.7)\n",
            "Requirement already satisfied: gast<=0.4.0,>=0.2.1 in /usr/local/lib/python3.10/dist-packages (from tensorflow==2.12.0->rasa) (0.4.0)\n",
            "Requirement already satisfied: google-pasta>=0.1.1 in /usr/local/lib/python3.10/dist-packages (from tensorflow==2.12.0->rasa) (0.2.0)\n",
            "Requirement already satisfied: grpcio<2.0,>=1.24.3 in /usr/local/lib/python3.10/dist-packages (from tensorflow==2.12.0->rasa) (1.62.1)\n",
            "Requirement already satisfied: h5py>=2.9.0 in /usr/local/lib/python3.10/dist-packages (from tensorflow==2.12.0->rasa) (3.9.0)\n",
            "Requirement already satisfied: jax>=0.3.15 in /usr/local/lib/python3.10/dist-packages (from tensorflow==2.12.0->rasa) (0.4.23)\n",
            "Requirement already satisfied: keras<2.13,>=2.12.0 in /usr/local/lib/python3.10/dist-packages (from tensorflow==2.12.0->rasa) (2.12.0)\n",
            "Requirement already satisfied: libclang>=13.0.0 in /usr/local/lib/python3.10/dist-packages (from tensorflow==2.12.0->rasa) (18.1.1)\n",
            "Requirement already satisfied: opt-einsum>=2.3.2 in /usr/local/lib/python3.10/dist-packages (from tensorflow==2.12.0->rasa) (3.3.0)\n",
            "Requirement already satisfied: six>=1.12.0 in /usr/local/lib/python3.10/dist-packages (from tensorflow==2.12.0->rasa) (1.16.0)\n",
            "Requirement already satisfied: tensorboard<2.13,>=2.12 in /usr/local/lib/python3.10/dist-packages (from tensorflow==2.12.0->rasa) (2.12.3)\n",
            "Requirement already satisfied: tensorflow-estimator<2.13,>=2.12.0 in /usr/local/lib/python3.10/dist-packages (from tensorflow==2.12.0->rasa) (2.12.0)\n",
            "Requirement already satisfied: termcolor>=1.1.0 in /usr/local/lib/python3.10/dist-packages (from tensorflow==2.12.0->rasa) (2.4.0)\n",
            "Requirement already satisfied: wrapt<1.15,>=1.11.0 in /usr/local/lib/python3.10/dist-packages (from tensorflow==2.12.0->rasa) (1.14.1)\n",
            "Requirement already satisfied: aiormq~=6.4.0 in /usr/local/lib/python3.10/dist-packages (from aio-pika<8.2.4,>=6.7.1->rasa) (6.4.2)\n",
            "Requirement already satisfied: yarl in /usr/local/lib/python3.10/dist-packages (from aio-pika<8.2.4,>=6.7.1->rasa) (1.9.4)\n",
            "Requirement already satisfied: Babel>=2.8.0 in /usr/local/lib/python3.10/dist-packages (from aiogram<2.26->rasa) (2.14.0)\n",
            "Requirement already satisfied: aiosignal>=1.1.2 in /usr/local/lib/python3.10/dist-packages (from aiohttp<3.10,>=3.9.0->rasa) (1.3.1)\n",
            "Requirement already satisfied: frozenlist>=1.1.1 in /usr/local/lib/python3.10/dist-packages (from aiohttp<3.10,>=3.9.0->rasa) (1.4.1)\n",
            "Requirement already satisfied: multidict<7.0,>=4.5 in /usr/local/lib/python3.10/dist-packages (from aiohttp<3.10,>=3.9.0->rasa) (5.2.0)\n",
            "Requirement already satisfied: async-timeout<5.0,>=4.0 in /usr/local/lib/python3.10/dist-packages (from aiohttp<3.10,>=3.9.0->rasa) (4.0.3)\n",
            "Requirement already satisfied: tzlocal!=3.*,>=2.0 in /usr/local/lib/python3.10/dist-packages (from apscheduler<3.10,>=3.6->rasa) (5.2)\n",
            "Requirement already satisfied: botocore<1.35.0,>=1.34.69 in /usr/local/lib/python3.10/dist-packages (from boto3<2.0.0,>=1.26.136->rasa) (1.34.69)\n",
            "Requirement already satisfied: jmespath<2.0.0,>=0.7.1 in /usr/local/lib/python3.10/dist-packages (from boto3<2.0.0,>=1.26.136->rasa) (1.0.1)\n",
            "Requirement already satisfied: s3transfer<0.11.0,>=0.10.0 in /usr/local/lib/python3.10/dist-packages (from boto3<2.0.0,>=1.26.136->rasa) (0.10.1)\n",
            "Requirement already satisfied: msgpack>=0.5.2 in /usr/local/lib/python3.10/dist-packages (from CacheControl<0.13.0,>=0.12.9->rasa) (1.0.8)\n",
            "Requirement already satisfied: humanfriendly>=9.1 in /usr/local/lib/python3.10/dist-packages (from coloredlogs<16,>=10->rasa) (10.0)\n",
            "Requirement already satisfied: cffi>=1.12 in /usr/local/lib/python3.10/dist-packages (from cryptography>=41.0.7->rasa) (1.16.0)\n",
            "Requirement already satisfied: cachetools<6.0,>=2.0.0 in /usr/local/lib/python3.10/dist-packages (from google-auth<3->rasa) (5.3.3)\n",
            "Requirement already satisfied: pyasn1-modules>=0.2.1 in /usr/local/lib/python3.10/dist-packages (from google-auth<3->rasa) (0.3.0)\n",
            "Requirement already satisfied: rsa<5,>=3.1.4 in /usr/local/lib/python3.10/dist-packages (from google-auth<3->rasa) (4.9)\n",
            "Requirement already satisfied: pyrsistent!=0.17.0,!=0.17.1,!=0.17.2,>=0.14.0 in /usr/local/lib/python3.10/dist-packages (from jsonschema<4.18,>=3.2->rasa) (0.20.0)\n",
            "Requirement already satisfied: cycler>=0.10 in /usr/local/lib/python3.10/dist-packages (from matplotlib<3.6,>=3.1->rasa) (0.12.1)\n",
            "Requirement already satisfied: fonttools>=4.22.0 in /usr/local/lib/python3.10/dist-packages (from matplotlib<3.6,>=3.1->rasa) (4.50.0)\n",
            "Requirement already satisfied: kiwisolver>=1.0.1 in /usr/local/lib/python3.10/dist-packages (from matplotlib<3.6,>=3.1->rasa) (1.4.5)\n",
            "Requirement already satisfied: pillow>=6.2.0 in /usr/local/lib/python3.10/dist-packages (from matplotlib<3.6,>=3.1->rasa) (9.4.0)\n",
            "Requirement already satisfied: pyparsing>=2.2.1 in /usr/local/lib/python3.10/dist-packages (from matplotlib<3.6,>=3.1->rasa) (3.1.2)\n",
            "Requirement already satisfied: wcwidth in /usr/local/lib/python3.10/dist-packages (from prompt-toolkit<3.0.29,>=3.0->rasa) (0.2.13)\n",
            "Requirement already satisfied: docopt>=0.6.2 in /usr/local/lib/python3.10/dist-packages (from pykwalify<1.9,>=1.7->rasa) (0.6.2)\n",
            "Requirement already satisfied: simple-websocket>=0.10.0 in /usr/local/lib/python3.10/dist-packages (from python-engineio!=5.0.0,<6,>=4->rasa) (1.0.0)\n",
            "Requirement already satisfied: bidict>=0.21.0 in /usr/local/lib/python3.10/dist-packages (from python-socketio<6,>=4.4->rasa) (0.23.1)\n",
            "Requirement already satisfied: fire in /usr/local/lib/python3.10/dist-packages (from randomname<0.2.0,>=0.1.5->rasa) (0.6.0)\n",
            "Requirement already satisfied: charset-normalizer<4,>=2 in /usr/local/lib/python3.10/dist-packages (from requests<3.0,>=2.23->rasa) (3.3.2)\n",
            "Requirement already satisfied: idna<4,>=2.5 in /usr/local/lib/python3.10/dist-packages (from requests<3.0,>=2.23->rasa) (3.6)\n",
            "Requirement already satisfied: urllib3<3,>=1.21.1 in /usr/local/lib/python3.10/dist-packages (from requests<3.0,>=2.23->rasa) (2.0.7)\n",
            "Requirement already satisfied: ruamel.yaml.clib>=0.2.6 in /usr/local/lib/python3.10/dist-packages (from ruamel.yaml<0.17.22,>=0.16.5->rasa) (0.2.8)\n",
            "Requirement already satisfied: httptools>=0.0.10 in /usr/local/lib/python3.10/dist-packages (from sanic<21.13,>=21.12->rasa) (0.6.1)\n",
            "Requirement already satisfied: aiofiles>=0.6.0 in /usr/local/lib/python3.10/dist-packages (from sanic<21.13,>=21.12->rasa) (23.2.1)\n",
            "Requirement already satisfied: uvloop>=0.5.3 in /usr/local/lib/python3.10/dist-packages (from sanic<21.13,>=21.12->rasa) (0.19.0)\n",
            "Requirement already satisfied: threadpoolctl>=2.0.0 in /usr/local/lib/python3.10/dist-packages (from scikit-learn<1.2,>=0.22->rasa) (3.3.0)\n",
            "Requirement already satisfied: python-crfsuite>=0.8.3 in /usr/local/lib/python3.10/dist-packages (from sklearn-crfsuite<0.4,>=0.3->rasa) (0.9.10)\n",
            "Requirement already satisfied: tabulate in /usr/local/lib/python3.10/dist-packages (from sklearn-crfsuite<0.4,>=0.3->rasa) (0.9.0)\n",
            "Requirement already satisfied: greenlet!=0.4.17 in /usr/local/lib/python3.10/dist-packages (from SQLAlchemy<1.5.0,>=1.4.0->rasa) (3.0.3)\n",
            "Requirement already satisfied: aiohttp-retry>=2.8.3 in /usr/local/lib/python3.10/dist-packages (from twilio<8.3,>=6.26->rasa) (2.8.3)\n",
            "Requirement already satisfied: future in /usr/local/lib/python3.10/dist-packages (from webexteamssdk<1.7.0,>=1.1.1->rasa) (0.18.3)\n",
            "Requirement already satisfied: requests-toolbelt in /usr/local/lib/python3.10/dist-packages (from webexteamssdk<1.7.0,>=1.1.1->rasa) (1.0.0)\n",
            "Requirement already satisfied: pamqp==3.2.1 in /usr/local/lib/python3.10/dist-packages (from aiormq~=6.4.0->aio-pika<8.2.4,>=6.7.1->rasa) (3.2.1)\n",
            "Requirement already satisfied: pycparser in /usr/local/lib/python3.10/dist-packages (from cffi>=1.12->cryptography>=41.0.7->rasa) (2.21)\n",
            "Requirement already satisfied: ml-dtypes>=0.2.0 in /usr/local/lib/python3.10/dist-packages (from jax>=0.3.15->tensorflow==2.12.0->rasa) (0.2.0)\n",
            "Requirement already satisfied: locket in /usr/local/lib/python3.10/dist-packages (from partd>=0.3.10->dask==2022.10.2->rasa) (1.0.0)\n",
            "Requirement already satisfied: pyasn1<0.6.0,>=0.4.6 in /usr/local/lib/python3.10/dist-packages (from pyasn1-modules>=0.2.1->google-auth<3->rasa) (0.5.1)\n",
            "Requirement already satisfied: wsproto in /usr/local/lib/python3.10/dist-packages (from simple-websocket>=0.10.0->python-engineio!=5.0.0,<6,>=4->rasa) (1.2.0)\n",
            "Requirement already satisfied: google-auth-oauthlib<1.1,>=0.5 in /usr/local/lib/python3.10/dist-packages (from tensorboard<2.13,>=2.12->tensorflow==2.12.0->rasa) (1.0.0)\n",
            "Requirement already satisfied: markdown>=2.6.8 in /usr/local/lib/python3.10/dist-packages (from tensorboard<2.13,>=2.12->tensorflow==2.12.0->rasa) (3.6)\n",
            "Requirement already satisfied: tensorboard-data-server<0.8.0,>=0.7.0 in /usr/local/lib/python3.10/dist-packages (from tensorboard<2.13,>=2.12->tensorflow==2.12.0->rasa) (0.7.2)\n",
            "Requirement already satisfied: werkzeug>=1.0.1 in /usr/local/lib/python3.10/dist-packages (from tensorboard<2.13,>=2.12->tensorflow==2.12.0->rasa) (3.0.1)\n",
            "Requirement already satisfied: requests-oauthlib>=0.7.0 in /usr/local/lib/python3.10/dist-packages (from google-auth-oauthlib<1.1,>=0.5->tensorboard<2.13,>=2.12->tensorflow==2.12.0->rasa) (1.4.0)\n",
            "Requirement already satisfied: MarkupSafe>=2.1.1 in /usr/local/lib/python3.10/dist-packages (from werkzeug>=1.0.1->tensorboard<2.13,>=2.12->tensorflow==2.12.0->rasa) (2.1.5)\n",
            "Requirement already satisfied: h11<1,>=0.9.0 in /usr/local/lib/python3.10/dist-packages (from wsproto->simple-websocket>=0.10.0->python-engineio!=5.0.0,<6,>=4->rasa) (0.14.0)\n",
            "Requirement already satisfied: oauthlib>=3.0.0 in /usr/local/lib/python3.10/dist-packages (from requests-oauthlib>=0.7.0->google-auth-oauthlib<1.1,>=0.5->tensorboard<2.13,>=2.12->tensorflow==2.12.0->rasa) (3.2.2)\n"
          ]
        }
      ],
      "source": [
        "!pip install rasa\n",
        "\n"
      ]
    },
    {
      "cell_type": "code",
      "source": [
        "import os\n",
        "import rasa\n",
        "import nest_asyncio\n",
        "\n",
        "nest_asyncio.apply()\n",
        "print(\"event loop ready\")"
      ],
      "metadata": {
        "colab": {
          "base_uri": "https://localhost:8080/"
        },
        "id": "xBkWWRptvhg9",
        "outputId": "65af2bb7-2d3e-4ba5-81fd-cc7a927b84e0"
      },
      "execution_count": 5,
      "outputs": [
        {
          "output_type": "stream",
          "name": "stdout",
          "text": [
            "event loop ready\n"
          ]
        }
      ]
    },
    {
      "cell_type": "code",
      "source": [
        "from rasa.cli.scaffold import create_initial_project"
      ],
      "metadata": {
        "id": "-Dnc_jeevwL6"
      },
      "execution_count": 6,
      "outputs": []
    },
    {
      "cell_type": "code",
      "source": [
        "project=\"Chatbot_Rasa\"\n",
        "create_initial_project(project)"
      ],
      "metadata": {
        "id": "oK-lQhsGv1uR"
      },
      "execution_count": 7,
      "outputs": []
    },
    {
      "cell_type": "code",
      "source": [
        "config=\"/content/Chatbot_Rasa/config.yml\"\n",
        "training_files=\"/content/Chatbot_Rasa/data/\"\n",
        "domain=\"/content/Chatbot_Rasa/domain.yml\"\n",
        "output=\"/content/Chatbot_Rasa/models/\"\n",
        "print(config,training_files,domain,output)"
      ],
      "metadata": {
        "colab": {
          "base_uri": "https://localhost:8080/"
        },
        "id": "_hD2fGqiwA13",
        "outputId": "e13d0791-99cb-42d7-9f70-764cc54aa972"
      },
      "execution_count": 8,
      "outputs": [
        {
          "output_type": "stream",
          "name": "stdout",
          "text": [
            "/content/Chatbot_Rasa/config.yml /content/Chatbot_Rasa/data/ /content/Chatbot_Rasa/domain.yml /content/Chatbot_Rasa/models/\n"
          ]
        }
      ]
    },
    {
      "cell_type": "code",
      "source": [
        "model=rasa.train(domain,config, [training_files] ,output)"
      ],
      "metadata": {
        "id": "jlB0GU3OwLlX",
        "colab": {
          "base_uri": "https://localhost:8080/"
        },
        "outputId": "60229eb2-6ec9-4151-8f3e-e0a2adafbb05"
      },
      "execution_count": 9,
      "outputs": [
        {
          "output_type": "stream",
          "name": "stderr",
          "text": [
            "/usr/local/lib/python3.10/dist-packages/rasa/engine/caching.py:152: MovedIn20Warning: Deprecated API features detected! These feature(s) are not compatible with SQLAlchemy 2.0. To prevent incompatible upgrades prior to updating applications, ensure requirements files are pinned to \"sqlalchemy<2.0\". Set environment variable SQLALCHEMY_WARN_20=1 to show all deprecation warnings.  Set environment variable SQLALCHEMY_SILENCE_UBER_WARNING=1 to silence this message. (Background on SQLAlchemy 2.0 at: https://sqlalche.me/e/b8d9)\n",
            "  Base: DeclarativeMeta = declarative_base()\n",
            "<frozen importlib._bootstrap>:283: DeprecationWarning: the load_module() method is deprecated and slated for removal in Python 3.12; use exec_module() instead\n"
          ]
        },
        {
          "output_type": "stream",
          "name": "stdout",
          "text": [
            "\u001b(0lqqqqqqqqqqqqqqqqqqqqqqqqqqqqqqqqqqqqqqqqqqqqqqqqqqqqqqqqqqqqqqqqqqqqqqqqqqqqqqqqk\u001b(B\n",
            "\u001b(0x\u001b(B Rasa Open Source reports anonymous usage telemetry to help improve the product \u001b(0x\u001b(B\n",
            "\u001b(0x\u001b(B for all its users.                                                             \u001b(0x\u001b(B\n",
            "\u001b(0x\u001b(B                                                                                \u001b(0x\u001b(B\n",
            "\u001b(0x\u001b(B If you'd like to opt-out, you can use `rasa telemetry disable`.                \u001b(0x\u001b(B\n",
            "\u001b(0x\u001b(B To learn more, check out https://rasa.com/docs/rasa/telemetry/telemetry.       \u001b(0x\u001b(B\n",
            "\u001b(0mqqqqqqqqqqqqqqqqqqqqqqqqqqqqqqqqqqqqqqqqqqqqqqqqqqqqqqqqqqqqqqqqqqqqqqqqqqqqqqqqj\u001b(B\n",
            "\u001b[94mThe configuration for pipeline and policies was chosen automatically. It was written into the config file at '/content/Chatbot_Rasa/config.yml'.\u001b[0m\n"
          ]
        },
        {
          "output_type": "stream",
          "name": "stderr",
          "text": [
            "<frozen importlib._bootstrap>:283: DeprecationWarning: the load_module() method is deprecated and slated for removal in Python 3.12; use exec_module() instead\n",
            "Epochs:   0%|          | 0/100 [00:00<?, ?it/s]/usr/lib/python3.10/random.py:370: DeprecationWarning: non-integer arguments to randrange() have been deprecated since Python 3.10 and will be removed in a subsequent version\n",
            "  return self.randrange(a, b+1)\n",
            "Epochs: 100%|██████████| 100/100 [00:45<00:00,  2.22it/s, t_loss=1.12, i_acc=1]\n",
            "Processed story blocks: 100%|██████████| 3/3 [00:00<00:00, 258.10it/s, # trackers=1]\n",
            "Processed story blocks: 100%|██████████| 3/3 [00:00<00:00, 308.37it/s, # trackers=3]\n",
            "Processed story blocks: 100%|██████████| 3/3 [00:00<00:00, 86.01it/s, # trackers=12]\n",
            "Processed story blocks: 100%|██████████| 3/3 [00:00<00:00, 38.82it/s, # trackers=39]\n",
            "Processed rules: 100%|██████████| 2/2 [00:00<00:00, 249.11it/s, # trackers=1]\n",
            "Processed trackers: 100%|██████████| 3/3 [00:00<00:00, 122.26it/s, # action=12]\n",
            "Processed actions: 12it [00:00, 532.09it/s, # examples=12]\n",
            "Processed trackers: 100%|██████████| 2/2 [00:00<00:00, 173.68it/s, # action=5]\n",
            "Processed actions: 5it [00:00, 1058.69it/s, # examples=4]\n",
            "Processed trackers: 100%|██████████| 3/3 [00:00<00:00, 202.00it/s, # action=12]\n",
            "Processed trackers:   0%|          | 0/2 [00:00<?, ?it/s]"
          ]
        },
        {
          "output_type": "stream",
          "name": "stdout",
          "text": [
            "2024-03-22 19:33:41 [debug    ] rule_policy.actions.find       current_states=\n",
            "[state 1] previous action name: ...\n",
            "[state 2] previous action name: action_listen\n",
            "2024-03-22 19:33:41 [debug    ] rule_policy.actions.find       current_states=\n",
            "[state 1] previous action name: ...\n",
            "[state 2] user intent: goodbye | previous action name: action_listen\n",
            "2024-03-22 19:33:41 [debug    ] rule_policy.actions.find       current_states=\n",
            "[state 1] previous action name: ...\n",
            "[state 2] user intent: goodbye | previous action name: action_listen\n",
            "[state 3] user intent: goodbye | previous action name: utter_goodbye\n",
            "2024-03-22 19:33:41 [debug    ] rule_policy.actions.find       current_states=\n",
            "[state 1] previous action name: ...\n",
            "[state 2] previous action name: action_listen\n",
            "2024-03-22 19:33:41 [debug    ] rule_policy.actions.find       current_states=\n",
            "[state 1] previous action name: ...\n",
            "[state 2] user intent: bot_challenge | previous action name: action_listen\n",
            "2024-03-22 19:33:41 [debug    ] rule_policy.actions.find       current_states=\n",
            "[state 1] previous action name: ...\n",
            "[state 2] user intent: bot_challenge | previous action name: action_listen\n",
            "[state 3] user intent: bot_challenge | previous action name: utter_iamabot\n"
          ]
        },
        {
          "output_type": "stream",
          "name": "stderr",
          "text": [
            "Processed trackers: 100%|██████████| 2/2 [00:00<00:00, 231.63it/s]\n",
            "Processed trackers:   0%|          | 0/5 [00:00<?, ?it/s]"
          ]
        },
        {
          "output_type": "stream",
          "name": "stdout",
          "text": [
            "2024-03-22 19:33:41 [debug    ] rule_policy.actions.find       current_states=\n",
            "[state 1] previous action name: action_listen\n",
            "2024-03-22 19:33:41 [debug    ] rule_policy.actions.find       current_states=\n",
            "[state 1] user intent: greet | previous action name: action_listen\n",
            "2024-03-22 19:33:41 [debug    ] rule_policy.actions.find       current_states=\n",
            "[state 1] user intent: greet | previous action name: action_listen\n",
            "[state 2] user intent: greet | previous action name: utter_greet\n",
            "2024-03-22 19:33:41 [debug    ] rule_policy.actions.find       current_states=\n",
            "[state 1] user intent: greet | previous action name: action_listen\n",
            "[state 2] user intent: greet | previous action name: utter_greet\n",
            "[state 3] previous action name: action_listen\n",
            "2024-03-22 19:33:41 [debug    ] rule_policy.actions.find       current_states=\n",
            "[state 1] user intent: greet | previous action name: action_listen\n",
            "[state 2] user intent: greet | previous action name: utter_greet\n",
            "[state 3] user intent: mood_great | previous action name: action_listen\n",
            "2024-03-22 19:33:41 [debug    ] rule_policy.actions.find       current_states=\n",
            "[state 1] user intent: greet | previous action name: action_listen\n",
            "[state 2] user intent: greet | previous action name: utter_greet\n",
            "[state 3] user intent: mood_great | previous action name: action_listen\n",
            "[state 4] user intent: mood_great | previous action name: utter_happy\n",
            "2024-03-22 19:33:41 [debug    ] rule_policy.actions.find       current_states=\n",
            "[state 1] previous action name: action_listen\n",
            "2024-03-22 19:33:41 [debug    ] rule_policy.actions.find       current_states=\n",
            "[state 1] user intent: greet | previous action name: action_listen\n",
            "2024-03-22 19:33:41 [debug    ] rule_policy.actions.find       current_states=\n",
            "[state 1] user intent: greet | previous action name: action_listen\n",
            "[state 2] user intent: greet | previous action name: utter_greet\n",
            "2024-03-22 19:33:41 [debug    ] rule_policy.actions.find       current_states=\n",
            "[state 1] user intent: greet | previous action name: action_listen\n",
            "[state 2] user intent: greet | previous action name: utter_greet\n",
            "[state 3] previous action name: action_listen\n",
            "2024-03-22 19:33:41 [debug    ] rule_policy.actions.find       current_states=\n",
            "[state 1] user intent: greet | previous action name: action_listen\n",
            "[state 2] user intent: greet | previous action name: utter_greet\n",
            "[state 3] user intent: mood_unhappy | previous action name: action_listen\n",
            "2024-03-22 19:33:41 [debug    ] rule_policy.actions.find       current_states=\n",
            "[state 1] user intent: greet | previous action name: action_listen\n",
            "[state 2] user intent: greet | previous action name: utter_greet\n",
            "[state 3] user intent: mood_unhappy | previous action name: action_listen\n",
            "[state 4] user intent: mood_unhappy | previous action name: utter_cheer_up\n",
            "2024-03-22 19:33:41 [debug    ] rule_policy.actions.find       current_states=\n",
            "[state 1] user intent: greet | previous action name: action_listen\n",
            "[state 2] user intent: greet | previous action name: utter_greet\n",
            "[state 3] user intent: mood_unhappy | previous action name: action_listen\n",
            "[state 4] user intent: mood_unhappy | previous action name: utter_cheer_up\n",
            "[state 5] user intent: mood_unhappy | previous action name: utter_did_that_help\n",
            "2024-03-22 19:33:41 [debug    ] rule_policy.actions.find       current_states=\n",
            "[state 1] user intent: greet | previous action name: action_listen\n",
            "[state 2] user intent: greet | previous action name: utter_greet\n",
            "[state 3] user intent: mood_unhappy | previous action name: action_listen\n",
            "[state 4] user intent: mood_unhappy | previous action name: utter_cheer_up\n",
            "[state 5] user intent: mood_unhappy | previous action name: utter_did_that_help\n",
            "[state 6] previous action name: action_listen\n",
            "2024-03-22 19:33:41 [debug    ] rule_policy.actions.find       current_states=\n",
            "[state 1] user intent: greet | previous action name: action_listen\n",
            "[state 2] user intent: greet | previous action name: utter_greet\n",
            "[state 3] user intent: mood_unhappy | previous action name: action_listen\n",
            "[state 4] user intent: mood_unhappy | previous action name: utter_cheer_up\n",
            "[state 5] user intent: mood_unhappy | previous action name: utter_did_that_help\n",
            "[state 6] user intent: affirm | previous action name: action_listen\n",
            "2024-03-22 19:33:41 [debug    ] rule_policy.actions.find       current_states=\n",
            "[state 1] user intent: greet | previous action name: action_listen\n",
            "[state 2] user intent: greet | previous action name: utter_greet\n",
            "[state 3] user intent: mood_unhappy | previous action name: action_listen\n",
            "[state 4] user intent: mood_unhappy | previous action name: utter_cheer_up\n",
            "[state 5] user intent: mood_unhappy | previous action name: utter_did_that_help\n",
            "[state 6] user intent: affirm | previous action name: action_listen\n",
            "[state 7] user intent: affirm | previous action name: utter_happy\n",
            "2024-03-22 19:33:41 [debug    ] rule_policy.actions.find       current_states=\n",
            "[state 1] previous action name: action_listen\n",
            "2024-03-22 19:33:41 [debug    ] rule_policy.actions.find       current_states=\n",
            "[state 1] user intent: greet | previous action name: action_listen\n",
            "2024-03-22 19:33:41 [debug    ] rule_policy.actions.find       current_states=\n",
            "[state 1] user intent: greet | previous action name: action_listen\n",
            "[state 2] user intent: greet | previous action name: utter_greet\n",
            "2024-03-22 19:33:41 [debug    ] rule_policy.actions.find       current_states=\n",
            "[state 1] user intent: greet | previous action name: action_listen\n",
            "[state 2] user intent: greet | previous action name: utter_greet\n",
            "[state 3] previous action name: action_listen\n",
            "2024-03-22 19:33:41 [debug    ] rule_policy.actions.find       current_states=\n",
            "[state 1] user intent: greet | previous action name: action_listen\n",
            "[state 2] user intent: greet | previous action name: utter_greet\n",
            "[state 3] user intent: mood_unhappy | previous action name: action_listen\n",
            "2024-03-22 19:33:41 [debug    ] rule_policy.actions.find       current_states=\n",
            "[state 1] user intent: greet | previous action name: action_listen\n",
            "[state 2] user intent: greet | previous action name: utter_greet\n",
            "[state 3] user intent: mood_unhappy | previous action name: action_listen\n",
            "[state 4] user intent: mood_unhappy | previous action name: utter_cheer_up\n",
            "2024-03-22 19:33:41 [debug    ] rule_policy.actions.find       current_states=\n",
            "[state 1] user intent: greet | previous action name: action_listen\n",
            "[state 2] user intent: greet | previous action name: utter_greet\n",
            "[state 3] user intent: mood_unhappy | previous action name: action_listen\n",
            "[state 4] user intent: mood_unhappy | previous action name: utter_cheer_up\n",
            "[state 5] user intent: mood_unhappy | previous action name: utter_did_that_help\n",
            "2024-03-22 19:33:41 [debug    ] rule_policy.actions.find       current_states=\n",
            "[state 1] user intent: greet | previous action name: action_listen\n",
            "[state 2] user intent: greet | previous action name: utter_greet\n",
            "[state 3] user intent: mood_unhappy | previous action name: action_listen\n",
            "[state 4] user intent: mood_unhappy | previous action name: utter_cheer_up\n",
            "[state 5] user intent: mood_unhappy | previous action name: utter_did_that_help\n",
            "[state 6] previous action name: action_listen\n",
            "2024-03-22 19:33:41 [debug    ] rule_policy.actions.find       current_states=\n",
            "[state 1] user intent: greet | previous action name: action_listen\n",
            "[state 2] user intent: greet | previous action name: utter_greet\n",
            "[state 3] user intent: mood_unhappy | previous action name: action_listen\n",
            "[state 4] user intent: mood_unhappy | previous action name: utter_cheer_up\n",
            "[state 5] user intent: mood_unhappy | previous action name: utter_did_that_help\n",
            "[state 6] user intent: deny | previous action name: action_listen\n",
            "2024-03-22 19:33:41 [debug    ] rule_policy.actions.find       current_states=\n",
            "[state 1] user intent: greet | previous action name: action_listen\n",
            "[state 2] user intent: greet | previous action name: utter_greet\n",
            "[state 3] user intent: mood_unhappy | previous action name: action_listen\n",
            "[state 4] user intent: mood_unhappy | previous action name: utter_cheer_up\n",
            "[state 5] user intent: mood_unhappy | previous action name: utter_did_that_help\n",
            "[state 6] user intent: deny | previous action name: action_listen\n",
            "[state 7] user intent: deny | previous action name: utter_goodbye\n",
            "2024-03-22 19:33:41 [debug    ] rule_policy.actions.find       current_states=\n",
            "[state 1] previous action name: ...\n",
            "[state 2] previous action name: action_listen\n",
            "2024-03-22 19:33:41 [debug    ] rule_policy.actions.find       current_states=\n",
            "[state 1] previous action name: ...\n",
            "[state 2] user intent: goodbye | previous action name: action_listen\n",
            "2024-03-22 19:33:41 [debug    ] rule_policy.actions.find       current_states=\n",
            "[state 1] previous action name: ...\n",
            "[state 2] user intent: goodbye | previous action name: action_listen\n",
            "[state 3] user intent: goodbye | previous action name: utter_goodbye\n",
            "2024-03-22 19:33:41 [debug    ] rule_policy.actions.find       current_states=\n",
            "[state 1] previous action name: ...\n",
            "[state 2] previous action name: action_listen\n",
            "2024-03-22 19:33:41 [debug    ] rule_policy.actions.find       current_states=\n",
            "[state 1] previous action name: ...\n",
            "[state 2] user intent: bot_challenge | previous action name: action_listen\n",
            "2024-03-22 19:33:41 [debug    ] rule_policy.actions.find       current_states=\n",
            "[state 1] previous action name: ...\n",
            "[state 2] user intent: bot_challenge | previous action name: action_listen\n",
            "[state 3] user intent: bot_challenge | previous action name: utter_iamabot\n"
          ]
        },
        {
          "output_type": "stream",
          "name": "stderr",
          "text": [
            "Processed trackers: 100%|██████████| 5/5 [00:00<00:00, 112.22it/s]\n",
            "Processed trackers: 100%|██████████| 120/120 [00:00<00:00, 699.95it/s, # action=30]\n",
            "/usr/local/lib/python3.10/dist-packages/rasa/utils/tensorflow/model_data.py:35: VisibleDeprecationWarning: Creating an ndarray from ragged nested sequences (which is a list-or-tuple of lists-or-tuples-or ndarrays with different lengths or shapes) is deprecated. If you meant to do this, you must specify 'dtype=object' when creating the ndarray.\n",
            "  return np.array(ragged_array)\n",
            "Epochs: 100%|██████████| 100/100 [00:26<00:00,  3.77it/s, t_loss=0.592, loss=0.43, acc=1]\n",
            "WARNING:rasa.shared.utils.common:The UnexpecTED Intent Policy is currently experimental and might change or be removed in the future 🔬 Please share your feedback on it in the forum (https://forum.rasa.com) to help us make this feature ready for production.\n",
            "Processed trackers: 100%|██████████| 120/120 [00:00<00:00, 1088.08it/s, # intent=12]\n",
            "Epochs: 100%|██████████| 100/100 [00:22<00:00,  4.49it/s, t_loss=0.138, loss=0.025, acc=1]\n",
            "/usr/local/lib/python3.10/dist-packages/rasa/core/policies/unexpected_intent_policy.py:839: DeprecationWarning: the `interpolation=` argument to quantile was renamed to `method=`, which has additional options.\n",
            "Users of the modes 'nearest', 'lower', 'higher', or 'midpoint' are encouraged to review the method they used. (Deprecated NumPy 1.22)\n",
            "  quantile_values = np.quantile(  # type: ignore[call-overload]\n"
          ]
        },
        {
          "output_type": "stream",
          "name": "stdout",
          "text": [
            "\u001b[92mYour Rasa model is trained and saved at '/content/Chatbot_Rasa/models/20240322-193242-pink-merge.tar.gz'.\u001b[0m\n"
          ]
        },
        {
          "output_type": "stream",
          "name": "stderr",
          "text": [
            "<frozen importlib._bootstrap>:283: DeprecationWarning: the load_module() method is deprecated and slated for removal in Python 3.12; use exec_module() instead\n"
          ]
        }
      ]
    },
    {
      "cell_type": "code",
      "source": [
        "from rasa.jupyter import chat\n",
        "chat(model.model, None)"
      ],
      "metadata": {
        "id": "o-8AQrJRybNw",
        "colab": {
          "base_uri": "https://localhost:8080/",
          "height": 1000
        },
        "outputId": "a4b7309b-703e-423c-f58f-585c24f068c9"
      },
      "execution_count": 10,
      "outputs": [
        {
          "output_type": "stream",
          "name": "stderr",
          "text": [
            "/usr/local/lib/python3.10/dist-packages/ipykernel/ipkernel.py:283: DeprecationWarning: `should_run_async` will not call `transform_cell` automatically in the future. Please pass the result to `transformed_cell` argument and any exception that happen during thetransform in `preprocessing_exc_tuple` in IPython 7.17 and above.\n",
            "  and should_run_async(code)\n",
            "/usr/lib/python3.10/random.py:370: DeprecationWarning: non-integer arguments to randrange() have been deprecated since Python 3.10 and will be removed in a subsequent version\n",
            "  return self.randrange(a, b+1)\n",
            "WARNING:rasa.shared.utils.common:The UnexpecTED Intent Policy is currently experimental and might change or be removed in the future 🔬 Please share your feedback on it in the forum (https://forum.rasa.com) to help us make this feature ready for production.\n"
          ]
        },
        {
          "output_type": "stream",
          "name": "stdout",
          "text": [
            "Your bot is ready to talk! Type your messages here or send '/stop'.\n",
            "hello\n",
            "2024-03-22 19:36:28 [debug    ] processor.actions.policy_prediction prediction_events=[]\n",
            "2024-03-22 19:36:28 [debug    ] processor.actions.log          action_name=action_session_start rasa_events=[<rasa.shared.core.events.SessionStarted object at 0x7a5fd07f4f70>, ActionExecuted(action: action_listen, policy: None, confidence: None)]\n",
            "2024-03-22 19:36:28 [debug    ] processor.slots.log            slot_values=\tsession_started_metadata: None\n",
            "2024-03-22 19:36:28 [debug    ] processor.message.parse        parse_data_entities=[] parse_data_intent={'name': 'greet', 'confidence': 0.9999938011169434} parse_data_text=hello\n",
            "2024-03-22 19:36:28 [debug    ] processor.extract.slots        action_extract_slot=action_extract_slots len_extraction_events=0 rasa_events=[]\n",
            "2024-03-22 19:36:28 [debug    ] memoization.predict.actions    tracker_states=[{}, {'user': {'intent': 'greet'}, 'prev_action': {'action_name': 'action_listen'}}]\n",
            "2024-03-22 19:36:28 [debug    ] rule_policy.actions.find       current_states=\n",
            "[state 1] user text: hello | previous action name: action_listen\n",
            "2024-03-22 19:36:28 [debug    ] rule_policy.actions.find       current_states=\n",
            "[state 1] user intent: greet | previous action name: action_listen\n",
            "2024-03-22 19:36:28 [debug    ] processor.actions.policy_prediction prediction_events=[<rasa.shared.core.events.DefinePrevUserUtteredFeaturization object at 0x7a5fd07f4700>]\n",
            "2024-03-22 19:36:28 [debug    ] processor.actions.log          action_name=utter_greet rasa_events=[BotUttered('Hey! How are you?', {\"elements\": null, \"quick_replies\": null, \"buttons\": null, \"attachment\": null, \"image\": null, \"custom\": null}, {\"utter_action\": \"utter_greet\"}, 1711136188.825438)]\n",
            "2024-03-22 19:36:28 [debug    ] memoization.predict.actions    tracker_states=[{}, {'user': {'intent': 'greet'}, 'prev_action': {'action_name': 'action_listen'}}, {'user': {'intent': 'greet'}, 'prev_action': {'action_name': 'utter_greet'}}]\n",
            "2024-03-22 19:36:28 [debug    ] rule_policy.actions.find       current_states=\n",
            "[state 1] user intent: greet | previous action name: action_listen\n",
            "[state 2] user intent: greet | previous action name: utter_greet\n",
            "2024-03-22 19:36:28 [debug    ] processor.actions.policy_prediction prediction_events=[]\n",
            "2024-03-22 19:36:28 [debug    ] processor.actions.log          action_name=action_listen rasa_events=[]\n",
            "\u001b[92mHey! How are you?\u001b[0m\n",
            "good\n",
            "2024-03-22 19:36:33 [debug    ] processor.message.parse        parse_data_entities=[] parse_data_intent={'name': 'mood_great', 'confidence': 0.851861834526062} parse_data_text=good\n",
            "2024-03-22 19:36:33 [debug    ] processor.extract.slots        action_extract_slot=action_extract_slots len_extraction_events=0 rasa_events=[]\n",
            "2024-03-22 19:36:33 [debug    ] memoization.predict.actions    tracker_states=[{}, {'user': {'intent': 'greet'}, 'prev_action': {'action_name': 'action_listen'}}, {'user': {'intent': 'greet'}, 'prev_action': {'action_name': 'utter_greet'}}, {'user': {'intent': 'mood_great'}, 'prev_action': {'action_name': 'action_listen'}}]\n",
            "2024-03-22 19:36:33 [debug    ] rule_policy.actions.find       current_states=\n",
            "[state 1] user intent: greet | previous action name: action_listen\n",
            "[state 2] user intent: greet | previous action name: utter_greet\n",
            "[state 3] user text: good | previous action name: action_listen\n",
            "2024-03-22 19:36:33 [debug    ] rule_policy.actions.find       current_states=\n",
            "[state 1] user intent: greet | previous action name: action_listen\n",
            "[state 2] user intent: greet | previous action name: utter_greet\n",
            "[state 3] user intent: mood_great | previous action name: action_listen\n",
            "2024-03-22 19:36:33 [debug    ] processor.actions.policy_prediction prediction_events=[<rasa.shared.core.events.DefinePrevUserUtteredFeaturization object at 0x7a5fd07f4850>]\n",
            "2024-03-22 19:36:33 [debug    ] processor.actions.log          action_name=utter_happy rasa_events=[BotUttered('Great, carry on!', {\"elements\": null, \"quick_replies\": null, \"buttons\": null, \"attachment\": null, \"image\": null, \"custom\": null}, {\"utter_action\": \"utter_happy\"}, 1711136193.2112606)]\n",
            "2024-03-22 19:36:33 [debug    ] memoization.predict.actions    tracker_states=[{}, {'user': {'intent': 'greet'}, 'prev_action': {'action_name': 'action_listen'}}, {'user': {'intent': 'greet'}, 'prev_action': {'action_name': 'utter_greet'}}, {'user': {'intent': 'mood_great'}, 'prev_action': {'action_name': 'action_listen'}}, {'user': {'intent': 'mood_great'}, 'prev_action': {'action_name': 'utter_happy'}}]\n",
            "2024-03-22 19:36:33 [debug    ] rule_policy.actions.find       current_states=\n",
            "[state 1] user intent: greet | previous action name: action_listen\n",
            "[state 2] user intent: greet | previous action name: utter_greet\n",
            "[state 3] user intent: mood_great | previous action name: action_listen\n",
            "[state 4] user intent: mood_great | previous action name: utter_happy\n",
            "2024-03-22 19:36:33 [debug    ] processor.actions.policy_prediction prediction_events=[]\n",
            "2024-03-22 19:36:33 [debug    ] processor.actions.log          action_name=action_listen rasa_events=[]\n",
            "\u001b[92mGreat, carry on!\u001b[0m\n",
            " je m'appele sara\n",
            "2024-03-22 19:36:43 [debug    ] processor.message.parse        parse_data_entities=[] parse_data_intent={'name': 'mood_unhappy', 'confidence': 0.9990203380584717} parse_data_text=je m'appele sara\n",
            "2024-03-22 19:36:43 [debug    ] processor.extract.slots        action_extract_slot=action_extract_slots len_extraction_events=0 rasa_events=[]\n",
            "2024-03-22 19:36:43 [debug    ] memoization.predict.actions    tracker_states=[{}, {'user': {'intent': 'greet'}, 'prev_action': {'action_name': 'action_listen'}}, {'user': {'intent': 'greet'}, 'prev_action': {'action_name': 'utter_greet'}}, {'user': {'intent': 'mood_great'}, 'prev_action': {'action_name': 'action_listen'}}, {'user': {'intent': 'mood_great'}, 'prev_action': {'action_name': 'utter_happy'}}, {'user': {'intent': 'mood_unhappy'}, 'prev_action': {'action_name': 'action_listen'}}]\n",
            "2024-03-22 19:36:44 [debug    ] rule_policy.actions.find       current_states=\n",
            "[state 1] user intent: greet | previous action name: action_listen\n",
            "[state 2] user intent: greet | previous action name: utter_greet\n",
            "[state 3] user intent: mood_great | previous action name: action_listen\n",
            "[state 4] user intent: mood_great | previous action name: utter_happy\n",
            "[state 5] user text: je m'appele sara | previous action name: action_listen\n",
            "2024-03-22 19:36:44 [debug    ] rule_policy.actions.find       current_states=\n",
            "[state 1] user intent: greet | previous action name: action_listen\n",
            "[state 2] user intent: greet | previous action name: utter_greet\n",
            "[state 3] user intent: mood_great | previous action name: action_listen\n",
            "[state 4] user intent: mood_great | previous action name: utter_happy\n",
            "[state 5] user intent: mood_unhappy | previous action name: action_listen\n",
            "2024-03-22 19:36:44 [debug    ] processor.actions.policy_prediction prediction_events=[<rasa.shared.core.events.DefinePrevUserUtteredFeaturization object at 0x7a5fd07f4310>]\n",
            "2024-03-22 19:36:44 [debug    ] processor.actions.log          action_name=action_unlikely_intent rasa_events=[]\n",
            "2024-03-22 19:36:44 [debug    ] processor.slots.log            slot_values=\tsession_started_metadata: None\n",
            "2024-03-22 19:36:44 [debug    ] memoization.predict.actions    tracker_states=[{}, {'user': {'intent': 'greet'}, 'prev_action': {'action_name': 'action_listen'}}, {'user': {'intent': 'greet'}, 'prev_action': {'action_name': 'utter_greet'}}, {'user': {'intent': 'mood_great'}, 'prev_action': {'action_name': 'action_listen'}}, {'user': {'intent': 'mood_great'}, 'prev_action': {'action_name': 'utter_happy'}}, {'user': {'intent': 'mood_unhappy'}, 'prev_action': {'action_name': 'action_listen'}}]\n",
            "2024-03-22 19:36:44 [debug    ] rule_policy.actions.find       current_states=\n",
            "[state 1] user intent: greet | previous action name: action_listen\n",
            "[state 2] user intent: greet | previous action name: utter_greet\n",
            "[state 3] user intent: mood_great | previous action name: action_listen\n",
            "[state 4] user intent: mood_great | previous action name: utter_happy\n",
            "[state 5] user intent: mood_unhappy | previous action name: action_listen\n",
            "[state 6] user intent: mood_unhappy | previous action name: action_unlikely_intent\n",
            "2024-03-22 19:36:44 [debug    ] processor.actions.policy_prediction prediction_events=[]\n",
            "2024-03-22 19:36:44 [debug    ] processor.actions.log          action_name=utter_cheer_up rasa_events=[BotUttered('Here is something to cheer you up:', {\"elements\": null, \"quick_replies\": null, \"buttons\": null, \"attachment\": \"https://i.imgur.com/nGF1K8f.jpg\", \"image\": \"https://i.imgur.com/nGF1K8f.jpg\", \"custom\": null}, {\"utter_action\": \"utter_cheer_up\"}, 1711136204.0672233)]\n",
            "2024-03-22 19:36:44 [debug    ] memoization.predict.actions    tracker_states=[{}, {'user': {'intent': 'greet'}, 'prev_action': {'action_name': 'action_listen'}}, {'user': {'intent': 'greet'}, 'prev_action': {'action_name': 'utter_greet'}}, {'user': {'intent': 'mood_great'}, 'prev_action': {'action_name': 'action_listen'}}, {'user': {'intent': 'mood_great'}, 'prev_action': {'action_name': 'utter_happy'}}, {'user': {'intent': 'mood_unhappy'}, 'prev_action': {'action_name': 'action_listen'}}, {'user': {'intent': 'mood_unhappy'}, 'prev_action': {'action_name': 'utter_cheer_up'}}]\n",
            "2024-03-22 19:36:44 [debug    ] rule_policy.actions.find       current_states=\n",
            "[state 1] user intent: greet | previous action name: action_listen\n",
            "[state 2] user intent: greet | previous action name: utter_greet\n",
            "[state 3] user intent: mood_great | previous action name: action_listen\n",
            "[state 4] user intent: mood_great | previous action name: utter_happy\n",
            "[state 5] user intent: mood_unhappy | previous action name: action_listen\n",
            "[state 6] user intent: mood_unhappy | previous action name: action_unlikely_intent\n",
            "[state 7] user intent: mood_unhappy | previous action name: utter_cheer_up\n",
            "2024-03-22 19:36:44 [debug    ] processor.actions.policy_prediction prediction_events=[]\n",
            "2024-03-22 19:36:44 [debug    ] processor.actions.log          action_name=utter_did_that_help rasa_events=[BotUttered('Did that help you?', {\"elements\": null, \"quick_replies\": null, \"buttons\": null, \"attachment\": null, \"image\": null, \"custom\": null}, {\"utter_action\": \"utter_did_that_help\"}, 1711136204.1021593)]\n",
            "2024-03-22 19:36:44 [debug    ] memoization.predict.actions    tracker_states=[{}, {'user': {'intent': 'greet'}, 'prev_action': {'action_name': 'action_listen'}}, {'user': {'intent': 'greet'}, 'prev_action': {'action_name': 'utter_greet'}}, {'user': {'intent': 'mood_great'}, 'prev_action': {'action_name': 'action_listen'}}, {'user': {'intent': 'mood_great'}, 'prev_action': {'action_name': 'utter_happy'}}, {'user': {'intent': 'mood_unhappy'}, 'prev_action': {'action_name': 'action_listen'}}, {'user': {'intent': 'mood_unhappy'}, 'prev_action': {'action_name': 'utter_cheer_up'}}, {'user': {'intent': 'mood_unhappy'}, 'prev_action': {'action_name': 'utter_did_that_help'}}]\n",
            "2024-03-22 19:36:44 [debug    ] rule_policy.actions.find       current_states=\n",
            "[state 1] user intent: greet | previous action name: action_listen\n",
            "[state 2] user intent: greet | previous action name: utter_greet\n",
            "[state 3] user intent: mood_great | previous action name: action_listen\n",
            "[state 4] user intent: mood_great | previous action name: utter_happy\n",
            "[state 5] user intent: mood_unhappy | previous action name: action_listen\n",
            "[state 6] user intent: mood_unhappy | previous action name: action_unlikely_intent\n",
            "[state 7] user intent: mood_unhappy | previous action name: utter_cheer_up\n",
            "[state 8] user intent: mood_unhappy | previous action name: utter_did_that_help\n",
            "2024-03-22 19:36:44 [debug    ] processor.actions.policy_prediction prediction_events=[]\n",
            "2024-03-22 19:36:44 [debug    ] processor.actions.log          action_name=action_listen rasa_events=[]\n",
            "\u001b[92mHere is something to cheer you up:\u001b[0m\n"
          ]
        },
        {
          "output_type": "display_data",
          "data": {
            "text/html": [
              "<img src=\"https://i.imgur.com/nGF1K8f.jpg\"/>"
            ],
            "text/plain": [
              "<IPython.core.display.Image object>"
            ]
          },
          "metadata": {}
        },
        {
          "name": "stdout",
          "output_type": "stream",
          "text": [
            "\u001b[92mDid that help you?\u001b[0m\n",
            "/stop\n"
          ]
        }
      ]
    }
  ]
}