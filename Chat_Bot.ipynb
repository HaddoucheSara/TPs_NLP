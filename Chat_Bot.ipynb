{
  "nbformat": 4,
  "nbformat_minor": 0,
  "metadata": {
    "colab": {
      "provenance": [],
      "authorship_tag": "ABX9TyNtQ2Zr+8wnlyiQoXDbDvYR",
      "include_colab_link": true
    },
    "kernelspec": {
      "name": "python3",
      "display_name": "Python 3"
    },
    "language_info": {
      "name": "python"
    }
  },
  "cells": [
    {
      "cell_type": "markdown",
      "metadata": {
        "id": "view-in-github",
        "colab_type": "text"
      },
      "source": [
        "<a href=\"https://colab.research.google.com/github/HaddoucheSara/TPs_NLP/blob/main/Chat_Bot.ipynb\" target=\"_parent\"><img src=\"https://colab.research.google.com/assets/colab-badge.svg\" alt=\"Open In Colab\"/></a>"
      ]
    },
    {
      "cell_type": "code",
      "execution_count": null,
      "metadata": {
        "id": "GWR_7IdjuOr8"
      },
      "outputs": [],
      "source": [
        "!pip install rasa\n",
        "\n"
      ]
    },
    {
      "cell_type": "code",
      "source": [
        "import os\n",
        "import rasa\n",
        "import nest_asyncio\n",
        "\n",
        "nest_asyncio.apply()\n",
        "print(\"event loop ready\")"
      ],
      "metadata": {
        "colab": {
          "base_uri": "https://localhost:8080/"
        },
        "id": "xBkWWRptvhg9",
        "outputId": "85582345-af0b-42e0-c493-2e2c1aa4686a"
      },
      "execution_count": 7,
      "outputs": [
        {
          "output_type": "stream",
          "name": "stdout",
          "text": [
            "event loop ready\n"
          ]
        }
      ]
    },
    {
      "cell_type": "code",
      "source": [
        "from rasa.cli.scaffold import create_initial_project"
      ],
      "metadata": {
        "id": "-Dnc_jeevwL6"
      },
      "execution_count": 3,
      "outputs": []
    },
    {
      "cell_type": "code",
      "source": [
        "project=\"Chatbot_Rasa\"\n",
        "create_initial_project(project)"
      ],
      "metadata": {
        "id": "oK-lQhsGv1uR"
      },
      "execution_count": 4,
      "outputs": []
    },
    {
      "cell_type": "code",
      "source": [
        "config=\"/content/Chatbot_Rasa/config.yml\"\n",
        "training_files=\"/content/Chatbot_Rasa/data/\"\n",
        "domain=\"/content/Chatbot_Rasa/domain.yml\"\n",
        "output=\"/content/Chatbot_Rasa/models/\"\n",
        "print(config,training_files,domain,output)"
      ],
      "metadata": {
        "colab": {
          "base_uri": "https://localhost:8080/"
        },
        "id": "_hD2fGqiwA13",
        "outputId": "77867745-4f3f-4574-f665-c36f98a911af"
      },
      "execution_count": 28,
      "outputs": [
        {
          "output_type": "stream",
          "name": "stdout",
          "text": [
            "/content/Chatbot_Rasa/config.yml /content/Chatbot_Rasa/data/ /content/Chatbot_Rasa/domain.yml /content/Chatbot_Rasa/models/\n"
          ]
        }
      ]
    },
    {
      "cell_type": "code",
      "source": [
        "model=rasa.train(domain,config, [training_files] ,output)"
      ],
      "metadata": {
        "id": "jlB0GU3OwLlX"
      },
      "execution_count": null,
      "outputs": []
    },
    {
      "cell_type": "code",
      "source": [
        "from rasa.jupyter import chat\n",
        "chat(model.model, None)"
      ],
      "metadata": {
        "colab": {
          "base_uri": "https://localhost:8080/",
          "height": 1000
        },
        "id": "o-8AQrJRybNw",
        "outputId": "9e871f07-154a-42c1-b121-700902f92091"
      },
      "execution_count": null,
      "outputs": [
        {
          "output_type": "stream",
          "name": "stderr",
          "text": [
            "WARNING:rasa.shared.utils.common:The UnexpecTED Intent Policy is currently experimental and might change or be removed in the future 🔬 Please share your feedback on it in the forum (https://forum.rasa.com) to help us make this feature ready for production.\n"
          ]
        },
        {
          "output_type": "stream",
          "name": "stdout",
          "text": [
            "Your bot is ready to talk! Type your messages here or send '/stop'.\n",
            "hello\n",
            "2024-03-22 01:10:13 [debug    ] processor.actions.policy_prediction prediction_events=[]\n",
            "2024-03-22 01:10:13 [debug    ] processor.actions.log          action_name=action_session_start rasa_events=[<rasa.shared.core.events.SessionStarted object at 0x7d62a22d3a30>, ActionExecuted(action: action_listen, policy: None, confidence: None)]\n",
            "2024-03-22 01:10:13 [debug    ] processor.slots.log            slot_values=\tname: None\n",
            "\taddress: None\n",
            "\tpayment_method: None\n",
            "\tsession_started_metadata: None\n",
            "2024-03-22 01:10:14 [debug    ] processor.message.parse        parse_data_entities=[] parse_data_intent={'name': 'greet', 'confidence': 0.9999780654907227} parse_data_text=hello\n",
            "2024-03-22 01:10:14 [debug    ] processor.extract.slots        action_extract_slot=action_extract_slots len_extraction_events=3 rasa_events=[SlotSet(key: name, value: hello), SlotSet(key: address, value: hello), SlotSet(key: payment_method, value: hello)]\n",
            "2024-03-22 01:10:14 [debug    ] memoization.predict.actions    tracker_states=[{}, {'user': {'intent': 'greet'}, 'slots': {'name': (1.0,), 'address': (1.0,), 'payment_method': (1.0,)}, 'prev_action': {'action_name': 'action_listen'}}]\n",
            "2024-03-22 01:10:14 [debug    ] rule_policy.actions.find       current_states=\n",
            "[state 1] user text: hello | previous action name: action_listen | slots: {'name': (1.0,), 'address': (1.0,), 'payment_method': (1.0,)}\n",
            "2024-03-22 01:10:14 [debug    ] rule_policy.actions.find       current_states=\n",
            "[state 1] user intent: greet | previous action name: action_listen | slots: {'name': (1.0,), 'address': (1.0,), 'payment_method': (1.0,)}\n",
            "2024-03-22 01:10:14 [debug    ] processor.actions.policy_prediction prediction_events=[<rasa.shared.core.events.DefinePrevUserUtteredFeaturization object at 0x7d62a22d3df0>]\n",
            "2024-03-22 01:10:14 [debug    ] processor.actions.log          action_name=utter_greet rasa_events=[BotUttered('Hey! How are you?', {\"elements\": null, \"quick_replies\": null, \"buttons\": null, \"attachment\": null, \"image\": null, \"custom\": null}, {\"utter_action\": \"utter_greet\"}, 1711069814.6038713)]\n",
            "2024-03-22 01:10:14 [debug    ] memoization.predict.actions    tracker_states=[{}, {'user': {'intent': 'greet'}, 'slots': {'name': (1.0,), 'address': (1.0,), 'payment_method': (1.0,)}, 'prev_action': {'action_name': 'action_listen'}}, {'user': {'intent': 'greet'}, 'slots': {'name': (1.0,), 'address': (1.0,), 'payment_method': (1.0,)}, 'prev_action': {'action_name': 'utter_greet'}}]\n",
            "2024-03-22 01:10:14 [debug    ] rule_policy.actions.find       current_states=\n",
            "[state 1] user intent: greet | previous action name: action_listen | slots: {'name': (1.0,), 'address': (1.0,), 'payment_method': (1.0,)}\n",
            "[state 2] user intent: greet | previous action name: utter_greet | slots: {'name': (1.0,), 'address': (1.0,), 'payment_method': (1.0,)}\n",
            "2024-03-22 01:10:14 [debug    ] processor.actions.policy_prediction prediction_events=[]\n",
            "2024-03-22 01:10:14 [debug    ] processor.actions.log          action_name=action_listen rasa_events=[]\n",
            "\u001b[92mHey! How are you?\u001b[0m\n",
            "amazing\n",
            "2024-03-22 01:10:25 [debug    ] processor.message.parse        parse_data_entities=[] parse_data_intent={'name': 'mood_great', 'confidence': 0.9999977350234985} parse_data_text=amazing\n",
            "2024-03-22 01:10:25 [debug    ] processor.extract.slots        action_extract_slot=action_extract_slots len_extraction_events=3 rasa_events=[SlotSet(key: name, value: amazing), SlotSet(key: address, value: amazing), SlotSet(key: payment_method, value: amazing)]\n",
            "2024-03-22 01:10:25 [debug    ] memoization.predict.actions    tracker_states=[{}, {'user': {'intent': 'greet'}, 'slots': {'name': (1.0,), 'address': (1.0,), 'payment_method': (1.0,)}, 'prev_action': {'action_name': 'action_listen'}}, {'user': {'intent': 'greet'}, 'slots': {'name': (1.0,), 'address': (1.0,), 'payment_method': (1.0,)}, 'prev_action': {'action_name': 'utter_greet'}}, {'user': {'intent': 'mood_great'}, 'slots': {'name': (1.0,), 'address': (1.0,), 'payment_method': (1.0,)}, 'prev_action': {'action_name': 'action_listen'}}]\n",
            "2024-03-22 01:10:25 [debug    ] rule_policy.actions.find       current_states=\n",
            "[state 1] user intent: greet | previous action name: action_listen | slots: {'name': (1.0,), 'address': (1.0,), 'payment_method': (1.0,)}\n",
            "[state 2] user intent: greet | previous action name: utter_greet | slots: {'name': (1.0,), 'address': (1.0,), 'payment_method': (1.0,)}\n",
            "[state 3] user text: amazing | previous action name: action_listen | slots: {'name': (1.0,), 'address': (1.0,), 'payment_method': (1.0,)}\n",
            "2024-03-22 01:10:25 [debug    ] rule_policy.actions.find       current_states=\n",
            "[state 1] user intent: greet | previous action name: action_listen | slots: {'name': (1.0,), 'address': (1.0,), 'payment_method': (1.0,)}\n",
            "[state 2] user intent: greet | previous action name: utter_greet | slots: {'name': (1.0,), 'address': (1.0,), 'payment_method': (1.0,)}\n",
            "[state 3] user intent: mood_great | previous action name: action_listen | slots: {'name': (1.0,), 'address': (1.0,), 'payment_method': (1.0,)}\n",
            "2024-03-22 01:10:25 [debug    ] processor.actions.policy_prediction prediction_events=[<rasa.shared.core.events.DefinePrevUserUtteredFeaturization object at 0x7d62a22d0460>]\n",
            "2024-03-22 01:10:25 [debug    ] processor.actions.log          action_name=utter_happy rasa_events=[BotUttered('Great, carry on!', {\"elements\": null, \"quick_replies\": null, \"buttons\": null, \"attachment\": null, \"image\": null, \"custom\": null}, {\"utter_action\": \"utter_happy\"}, 1711069825.303827)]\n",
            "2024-03-22 01:10:25 [debug    ] memoization.predict.actions    tracker_states=[{}, {'user': {'intent': 'greet'}, 'slots': {'name': (1.0,), 'address': (1.0,), 'payment_method': (1.0,)}, 'prev_action': {'action_name': 'action_listen'}}, {'user': {'intent': 'greet'}, 'slots': {'name': (1.0,), 'address': (1.0,), 'payment_method': (1.0,)}, 'prev_action': {'action_name': 'utter_greet'}}, {'user': {'intent': 'mood_great'}, 'slots': {'name': (1.0,), 'address': (1.0,), 'payment_method': (1.0,)}, 'prev_action': {'action_name': 'action_listen'}}, {'user': {'intent': 'mood_great'}, 'slots': {'name': (1.0,), 'address': (1.0,), 'payment_method': (1.0,)}, 'prev_action': {'action_name': 'utter_happy'}}]\n",
            "2024-03-22 01:10:25 [debug    ] rule_policy.actions.find       current_states=\n",
            "[state 1] user intent: greet | previous action name: action_listen | slots: {'name': (1.0,), 'address': (1.0,), 'payment_method': (1.0,)}\n",
            "[state 2] user intent: greet | previous action name: utter_greet | slots: {'name': (1.0,), 'address': (1.0,), 'payment_method': (1.0,)}\n",
            "[state 3] user intent: mood_great | previous action name: action_listen | slots: {'name': (1.0,), 'address': (1.0,), 'payment_method': (1.0,)}\n",
            "[state 4] user intent: mood_great | previous action name: utter_happy | slots: {'name': (1.0,), 'address': (1.0,), 'payment_method': (1.0,)}\n",
            "2024-03-22 01:10:25 [debug    ] processor.actions.policy_prediction prediction_events=[]\n",
            "2024-03-22 01:10:25 [debug    ] processor.actions.log          action_name=action_listen rasa_events=[]\n",
            "\u001b[92mGreat, carry on!\u001b[0m\n",
            "J'aimerais en savoir plus sur ce produi\n",
            "2024-03-22 01:10:42 [debug    ] processor.message.parse        parse_data_entities=[] parse_data_intent={'name': 'inform_product', 'confidence': 0.9999558925628662} parse_data_text=J'aimerais en savoir plus sur ce produi\n",
            "2024-03-22 01:10:42 [debug    ] processor.extract.slots        action_extract_slot=action_extract_slots len_extraction_events=3 rasa_events=[SlotSet(key: name, value: J'aimerais en savoir plus sur ce produi), SlotSet(key: address, value: J'aimerais en savoir plus sur ce produi), SlotSet(key: payment_method, value: J'aimerais en savoir plus sur ce produi)]\n",
            "2024-03-22 01:10:42 [debug    ] memoization.predict.actions    tracker_states=[{}, {'user': {'intent': 'greet'}, 'slots': {'name': (1.0,), 'address': (1.0,), 'payment_method': (1.0,)}, 'prev_action': {'action_name': 'action_listen'}}, {'user': {'intent': 'greet'}, 'slots': {'name': (1.0,), 'address': (1.0,), 'payment_method': (1.0,)}, 'prev_action': {'action_name': 'utter_greet'}}, {'user': {'intent': 'mood_great'}, 'slots': {'name': (1.0,), 'address': (1.0,), 'payment_method': (1.0,)}, 'prev_action': {'action_name': 'action_listen'}}, {'user': {'intent': 'mood_great'}, 'slots': {'name': (1.0,), 'address': (1.0,), 'payment_method': (1.0,)}, 'prev_action': {'action_name': 'utter_happy'}}, {'user': {'intent': 'inform_product'}, 'slots': {'name': (1.0,), 'address': (1.0,), 'payment_method': (1.0,)}, 'prev_action': {'action_name': 'action_listen'}}]\n",
            "2024-03-22 01:10:42 [debug    ] rule_policy.actions.find       current_states=\n",
            "[state 1] user intent: greet | previous action name: action_listen | slots: {'name': (1.0,), 'address': (1.0,), 'payment_method': (1.0,)}\n",
            "[state 2] user intent: greet | previous action name: utter_greet | slots: {'name': (1.0,), 'address': (1.0,), 'payment_method': (1.0,)}\n",
            "[state 3] user intent: mood_great | previous action name: action_listen | slots: {'name': (1.0,), 'address': (1.0,), 'payment_method': (1.0,)}\n",
            "[state 4] user intent: mood_great | previous action name: utter_happy | slots: {'name': (1.0,), 'address': (1.0,), 'payment_method': (1.0,)}\n",
            "[state 5] user text: J'aimerais en savoir plus sur ce produi | previous action name: action_listen | slots: {'name': (1.0,), 'address': (1.0,), 'payment_method': (1.0,)}\n",
            "2024-03-22 01:10:42 [debug    ] rule_policy.actions.find       current_states=\n",
            "[state 1] user intent: greet | previous action name: action_listen | slots: {'name': (1.0,), 'address': (1.0,), 'payment_method': (1.0,)}\n",
            "[state 2] user intent: greet | previous action name: utter_greet | slots: {'name': (1.0,), 'address': (1.0,), 'payment_method': (1.0,)}\n",
            "[state 3] user intent: mood_great | previous action name: action_listen | slots: {'name': (1.0,), 'address': (1.0,), 'payment_method': (1.0,)}\n",
            "[state 4] user intent: mood_great | previous action name: utter_happy | slots: {'name': (1.0,), 'address': (1.0,), 'payment_method': (1.0,)}\n",
            "[state 5] user intent: inform_product | previous action name: action_listen | slots: {'name': (1.0,), 'address': (1.0,), 'payment_method': (1.0,)}\n",
            "2024-03-22 01:10:42 [debug    ] processor.actions.policy_prediction prediction_events=[<rasa.shared.core.events.DefinePrevUserUtteredFeaturization object at 0x7d62a22d0fd0>]\n",
            "2024-03-22 01:10:42 [debug    ] processor.actions.log          action_name=utter_cheer_up rasa_events=[BotUttered('Here is something to cheer you up:', {\"elements\": null, \"quick_replies\": null, \"buttons\": null, \"attachment\": \"https://i.imgur.com/nGF1K8f.jpg\", \"image\": \"https://i.imgur.com/nGF1K8f.jpg\", \"custom\": null}, {\"utter_action\": \"utter_cheer_up\"}, 1711069842.4198108)]\n",
            "2024-03-22 01:10:42 [debug    ] memoization.predict.actions    tracker_states=[{}, {'user': {'intent': 'greet'}, 'slots': {'name': (1.0,), 'address': (1.0,), 'payment_method': (1.0,)}, 'prev_action': {'action_name': 'action_listen'}}, {'user': {'intent': 'greet'}, 'slots': {'name': (1.0,), 'address': (1.0,), 'payment_method': (1.0,)}, 'prev_action': {'action_name': 'utter_greet'}}, {'user': {'intent': 'mood_great'}, 'slots': {'name': (1.0,), 'address': (1.0,), 'payment_method': (1.0,)}, 'prev_action': {'action_name': 'action_listen'}}, {'user': {'intent': 'mood_great'}, 'slots': {'name': (1.0,), 'address': (1.0,), 'payment_method': (1.0,)}, 'prev_action': {'action_name': 'utter_happy'}}, {'user': {'intent': 'inform_product'}, 'slots': {'name': (1.0,), 'address': (1.0,), 'payment_method': (1.0,)}, 'prev_action': {'action_name': 'action_listen'}}, {'user': {'intent': 'inform_product'}, 'slots': {'name': (1.0,), 'address': (1.0,), 'payment_method': (1.0,)}, 'prev_action': {'action_name': 'utter_cheer_up'}}]\n",
            "2024-03-22 01:10:42 [debug    ] rule_policy.actions.find       current_states=\n",
            "[state 1] user intent: greet | previous action name: action_listen | slots: {'name': (1.0,), 'address': (1.0,), 'payment_method': (1.0,)}\n",
            "[state 2] user intent: greet | previous action name: utter_greet | slots: {'name': (1.0,), 'address': (1.0,), 'payment_method': (1.0,)}\n",
            "[state 3] user intent: mood_great | previous action name: action_listen | slots: {'name': (1.0,), 'address': (1.0,), 'payment_method': (1.0,)}\n",
            "[state 4] user intent: mood_great | previous action name: utter_happy | slots: {'name': (1.0,), 'address': (1.0,), 'payment_method': (1.0,)}\n",
            "[state 5] user intent: inform_product | previous action name: action_listen | slots: {'name': (1.0,), 'address': (1.0,), 'payment_method': (1.0,)}\n",
            "[state 6] user intent: inform_product | previous action name: utter_cheer_up | slots: {'name': (1.0,), 'address': (1.0,), 'payment_method': (1.0,)}\n",
            "2024-03-22 01:10:42 [debug    ] processor.actions.policy_prediction prediction_events=[]\n",
            "2024-03-22 01:10:42 [debug    ] processor.actions.log          action_name=utter_did_that_help rasa_events=[BotUttered('Did that help you?', {\"elements\": null, \"quick_replies\": null, \"buttons\": null, \"attachment\": null, \"image\": null, \"custom\": null}, {\"utter_action\": \"utter_did_that_help\"}, 1711069842.4497695)]\n",
            "2024-03-22 01:10:42 [debug    ] memoization.predict.actions    tracker_states=[{}, {'user': {'intent': 'greet'}, 'slots': {'name': (1.0,), 'address': (1.0,), 'payment_method': (1.0,)}, 'prev_action': {'action_name': 'action_listen'}}, {'user': {'intent': 'greet'}, 'slots': {'name': (1.0,), 'address': (1.0,), 'payment_method': (1.0,)}, 'prev_action': {'action_name': 'utter_greet'}}, {'user': {'intent': 'mood_great'}, 'slots': {'name': (1.0,), 'address': (1.0,), 'payment_method': (1.0,)}, 'prev_action': {'action_name': 'action_listen'}}, {'user': {'intent': 'mood_great'}, 'slots': {'name': (1.0,), 'address': (1.0,), 'payment_method': (1.0,)}, 'prev_action': {'action_name': 'utter_happy'}}, {'user': {'intent': 'inform_product'}, 'slots': {'name': (1.0,), 'address': (1.0,), 'payment_method': (1.0,)}, 'prev_action': {'action_name': 'action_listen'}}, {'user': {'intent': 'inform_product'}, 'slots': {'name': (1.0,), 'address': (1.0,), 'payment_method': (1.0,)}, 'prev_action': {'action_name': 'utter_cheer_up'}}, {'user': {'intent': 'inform_product'}, 'slots': {'name': (1.0,), 'address': (1.0,), 'payment_method': (1.0,)}, 'prev_action': {'action_name': 'utter_did_that_help'}}]\n",
            "2024-03-22 01:10:42 [debug    ] rule_policy.actions.find       current_states=\n",
            "[state 1] user intent: greet | previous action name: action_listen | slots: {'name': (1.0,), 'address': (1.0,), 'payment_method': (1.0,)}\n",
            "[state 2] user intent: greet | previous action name: utter_greet | slots: {'name': (1.0,), 'address': (1.0,), 'payment_method': (1.0,)}\n",
            "[state 3] user intent: mood_great | previous action name: action_listen | slots: {'name': (1.0,), 'address': (1.0,), 'payment_method': (1.0,)}\n",
            "[state 4] user intent: mood_great | previous action name: utter_happy | slots: {'name': (1.0,), 'address': (1.0,), 'payment_method': (1.0,)}\n",
            "[state 5] user intent: inform_product | previous action name: action_listen | slots: {'name': (1.0,), 'address': (1.0,), 'payment_method': (1.0,)}\n",
            "[state 6] user intent: inform_product | previous action name: utter_cheer_up | slots: {'name': (1.0,), 'address': (1.0,), 'payment_method': (1.0,)}\n",
            "[state 7] user intent: inform_product | previous action name: utter_did_that_help | slots: {'name': (1.0,), 'address': (1.0,), 'payment_method': (1.0,)}\n",
            "2024-03-22 01:10:42 [debug    ] processor.actions.policy_prediction prediction_events=[]\n",
            "2024-03-22 01:10:42 [debug    ] processor.actions.log          action_name=action_listen rasa_events=[]\n",
            "\u001b[92mHere is something to cheer you up:\u001b[0m\n"
          ]
        },
        {
          "output_type": "display_data",
          "data": {
            "text/html": [
              "<img src=\"https://i.imgur.com/nGF1K8f.jpg\"/>"
            ],
            "text/plain": [
              "<IPython.core.display.Image object>"
            ]
          },
          "metadata": {}
        },
        {
          "output_type": "stream",
          "name": "stdout",
          "text": [
            "\u001b[92mDid that help you?\u001b[0m\n",
            "so good\n",
            "2024-03-22 01:11:00 [debug    ] processor.message.parse        parse_data_entities=[] parse_data_intent={'name': 'mood_great', 'confidence': 0.9999873638153076} parse_data_text=so good\n",
            "2024-03-22 01:11:00 [debug    ] processor.extract.slots        action_extract_slot=action_extract_slots len_extraction_events=3 rasa_events=[SlotSet(key: name, value: so good), SlotSet(key: address, value: so good), SlotSet(key: payment_method, value: so good)]\n",
            "2024-03-22 01:11:00 [debug    ] memoization.predict.actions    tracker_states=[{}, {'user': {'intent': 'greet'}, 'slots': {'name': (1.0,), 'address': (1.0,), 'payment_method': (1.0,)}, 'prev_action': {'action_name': 'action_listen'}}, {'user': {'intent': 'greet'}, 'slots': {'name': (1.0,), 'address': (1.0,), 'payment_method': (1.0,)}, 'prev_action': {'action_name': 'utter_greet'}}, {'user': {'intent': 'mood_great'}, 'slots': {'name': (1.0,), 'address': (1.0,), 'payment_method': (1.0,)}, 'prev_action': {'action_name': 'action_listen'}}, {'user': {'intent': 'mood_great'}, 'slots': {'name': (1.0,), 'address': (1.0,), 'payment_method': (1.0,)}, 'prev_action': {'action_name': 'utter_happy'}}, {'user': {'intent': 'inform_product'}, 'slots': {'name': (1.0,), 'address': (1.0,), 'payment_method': (1.0,)}, 'prev_action': {'action_name': 'action_listen'}}, {'user': {'intent': 'inform_product'}, 'slots': {'name': (1.0,), 'address': (1.0,), 'payment_method': (1.0,)}, 'prev_action': {'action_name': 'utter_cheer_up'}}, {'user': {'intent': 'inform_product'}, 'slots': {'name': (1.0,), 'address': (1.0,), 'payment_method': (1.0,)}, 'prev_action': {'action_name': 'utter_did_that_help'}}, {'user': {'intent': 'mood_great'}, 'slots': {'name': (1.0,), 'address': (1.0,), 'payment_method': (1.0,)}, 'prev_action': {'action_name': 'action_listen'}}]\n",
            "2024-03-22 01:11:00 [debug    ] rule_policy.actions.find       current_states=\n",
            "[state 1] user intent: greet | previous action name: action_listen | slots: {'name': (1.0,), 'address': (1.0,), 'payment_method': (1.0,)}\n",
            "[state 2] user intent: greet | previous action name: utter_greet | slots: {'name': (1.0,), 'address': (1.0,), 'payment_method': (1.0,)}\n",
            "[state 3] user intent: mood_great | previous action name: action_listen | slots: {'name': (1.0,), 'address': (1.0,), 'payment_method': (1.0,)}\n",
            "[state 4] user intent: mood_great | previous action name: utter_happy | slots: {'name': (1.0,), 'address': (1.0,), 'payment_method': (1.0,)}\n",
            "[state 5] user intent: inform_product | previous action name: action_listen | slots: {'name': (1.0,), 'address': (1.0,), 'payment_method': (1.0,)}\n",
            "[state 6] user intent: inform_product | previous action name: utter_cheer_up | slots: {'name': (1.0,), 'address': (1.0,), 'payment_method': (1.0,)}\n",
            "[state 7] user intent: inform_product | previous action name: utter_did_that_help | slots: {'name': (1.0,), 'address': (1.0,), 'payment_method': (1.0,)}\n",
            "[state 8] user text: so good | previous action name: action_listen | slots: {'name': (1.0,), 'address': (1.0,), 'payment_method': (1.0,)}\n",
            "2024-03-22 01:11:01 [debug    ] rule_policy.actions.find       current_states=\n",
            "[state 1] user intent: greet | previous action name: action_listen | slots: {'name': (1.0,), 'address': (1.0,), 'payment_method': (1.0,)}\n",
            "[state 2] user intent: greet | previous action name: utter_greet | slots: {'name': (1.0,), 'address': (1.0,), 'payment_method': (1.0,)}\n",
            "[state 3] user intent: mood_great | previous action name: action_listen | slots: {'name': (1.0,), 'address': (1.0,), 'payment_method': (1.0,)}\n",
            "[state 4] user intent: mood_great | previous action name: utter_happy | slots: {'name': (1.0,), 'address': (1.0,), 'payment_method': (1.0,)}\n",
            "[state 5] user intent: inform_product | previous action name: action_listen | slots: {'name': (1.0,), 'address': (1.0,), 'payment_method': (1.0,)}\n",
            "[state 6] user intent: inform_product | previous action name: utter_cheer_up | slots: {'name': (1.0,), 'address': (1.0,), 'payment_method': (1.0,)}\n",
            "[state 7] user intent: inform_product | previous action name: utter_did_that_help | slots: {'name': (1.0,), 'address': (1.0,), 'payment_method': (1.0,)}\n",
            "[state 8] user intent: mood_great | previous action name: action_listen | slots: {'name': (1.0,), 'address': (1.0,), 'payment_method': (1.0,)}\n",
            "2024-03-22 01:11:01 [debug    ] processor.actions.policy_prediction prediction_events=[<rasa.shared.core.events.DefinePrevUserUtteredFeaturization object at 0x7d62a22d20e0>]\n",
            "2024-03-22 01:11:01 [debug    ] processor.actions.log          action_name=action_unlikely_intent rasa_events=[]\n",
            "2024-03-22 01:11:01 [debug    ] processor.slots.log            slot_values=\tname: so good\n",
            "\taddress: so good\n",
            "\tpayment_method: so good\n",
            "\tsession_started_metadata: None\n",
            "2024-03-22 01:11:01 [debug    ] memoization.predict.actions    tracker_states=[{}, {'user': {'intent': 'greet'}, 'slots': {'name': (1.0,), 'address': (1.0,), 'payment_method': (1.0,)}, 'prev_action': {'action_name': 'action_listen'}}, {'user': {'intent': 'greet'}, 'slots': {'name': (1.0,), 'address': (1.0,), 'payment_method': (1.0,)}, 'prev_action': {'action_name': 'utter_greet'}}, {'user': {'intent': 'mood_great'}, 'slots': {'name': (1.0,), 'address': (1.0,), 'payment_method': (1.0,)}, 'prev_action': {'action_name': 'action_listen'}}, {'user': {'intent': 'mood_great'}, 'slots': {'name': (1.0,), 'address': (1.0,), 'payment_method': (1.0,)}, 'prev_action': {'action_name': 'utter_happy'}}, {'user': {'intent': 'inform_product'}, 'slots': {'name': (1.0,), 'address': (1.0,), 'payment_method': (1.0,)}, 'prev_action': {'action_name': 'action_listen'}}, {'user': {'intent': 'inform_product'}, 'slots': {'name': (1.0,), 'address': (1.0,), 'payment_method': (1.0,)}, 'prev_action': {'action_name': 'utter_cheer_up'}}, {'user': {'intent': 'inform_product'}, 'slots': {'name': (1.0,), 'address': (1.0,), 'payment_method': (1.0,)}, 'prev_action': {'action_name': 'utter_did_that_help'}}, {'user': {'intent': 'mood_great'}, 'slots': {'name': (1.0,), 'address': (1.0,), 'payment_method': (1.0,)}, 'prev_action': {'action_name': 'action_listen'}}]\n",
            "2024-03-22 01:11:01 [debug    ] rule_policy.actions.find       current_states=\n",
            "[state 1] user intent: greet | previous action name: action_listen | slots: {'name': (1.0,), 'address': (1.0,), 'payment_method': (1.0,)}\n",
            "[state 2] user intent: greet | previous action name: utter_greet | slots: {'name': (1.0,), 'address': (1.0,), 'payment_method': (1.0,)}\n",
            "[state 3] user intent: mood_great | previous action name: action_listen | slots: {'name': (1.0,), 'address': (1.0,), 'payment_method': (1.0,)}\n",
            "[state 4] user intent: mood_great | previous action name: utter_happy | slots: {'name': (1.0,), 'address': (1.0,), 'payment_method': (1.0,)}\n",
            "[state 5] user intent: inform_product | previous action name: action_listen | slots: {'name': (1.0,), 'address': (1.0,), 'payment_method': (1.0,)}\n",
            "[state 6] user intent: inform_product | previous action name: utter_cheer_up | slots: {'name': (1.0,), 'address': (1.0,), 'payment_method': (1.0,)}\n",
            "[state 7] user intent: inform_product | previous action name: utter_did_that_help | slots: {'name': (1.0,), 'address': (1.0,), 'payment_method': (1.0,)}\n",
            "[state 8] user intent: mood_great | previous action name: action_listen | slots: {'name': (1.0,), 'address': (1.0,), 'payment_method': (1.0,)}\n",
            "[state 9] user intent: mood_great | previous action name: action_unlikely_intent | slots: {'name': (1.0,), 'address': (1.0,), 'payment_method': (1.0,)}\n",
            "2024-03-22 01:11:01 [debug    ] processor.actions.policy_prediction prediction_events=[]\n",
            "2024-03-22 01:11:01 [debug    ] processor.actions.log          action_name=utter_happy rasa_events=[BotUttered('Great, carry on!', {\"elements\": null, \"quick_replies\": null, \"buttons\": null, \"attachment\": null, \"image\": null, \"custom\": null}, {\"utter_action\": \"utter_happy\"}, 1711069861.0563192)]\n",
            "2024-03-22 01:11:01 [debug    ] memoization.predict.actions    tracker_states=[{}, {'user': {'intent': 'greet'}, 'slots': {'name': (1.0,), 'address': (1.0,), 'payment_method': (1.0,)}, 'prev_action': {'action_name': 'action_listen'}}, {'user': {'intent': 'greet'}, 'slots': {'name': (1.0,), 'address': (1.0,), 'payment_method': (1.0,)}, 'prev_action': {'action_name': 'utter_greet'}}, {'user': {'intent': 'mood_great'}, 'slots': {'name': (1.0,), 'address': (1.0,), 'payment_method': (1.0,)}, 'prev_action': {'action_name': 'action_listen'}}, {'user': {'intent': 'mood_great'}, 'slots': {'name': (1.0,), 'address': (1.0,), 'payment_method': (1.0,)}, 'prev_action': {'action_name': 'utter_happy'}}, {'user': {'intent': 'inform_product'}, 'slots': {'name': (1.0,), 'address': (1.0,), 'payment_method': (1.0,)}, 'prev_action': {'action_name': 'action_listen'}}, {'user': {'intent': 'inform_product'}, 'slots': {'name': (1.0,), 'address': (1.0,), 'payment_method': (1.0,)}, 'prev_action': {'action_name': 'utter_cheer_up'}}, {'user': {'intent': 'inform_product'}, 'slots': {'name': (1.0,), 'address': (1.0,), 'payment_method': (1.0,)}, 'prev_action': {'action_name': 'utter_did_that_help'}}, {'user': {'intent': 'mood_great'}, 'slots': {'name': (1.0,), 'address': (1.0,), 'payment_method': (1.0,)}, 'prev_action': {'action_name': 'action_listen'}}, {'user': {'intent': 'mood_great'}, 'slots': {'name': (1.0,), 'address': (1.0,), 'payment_method': (1.0,)}, 'prev_action': {'action_name': 'utter_happy'}}]\n",
            "2024-03-22 01:11:01 [debug    ] rule_policy.actions.find       current_states=\n",
            "[state 1] user intent: greet | previous action name: action_listen | slots: {'name': (1.0,), 'address': (1.0,), 'payment_method': (1.0,)}\n",
            "[state 2] user intent: greet | previous action name: utter_greet | slots: {'name': (1.0,), 'address': (1.0,), 'payment_method': (1.0,)}\n",
            "[state 3] user intent: mood_great | previous action name: action_listen | slots: {'name': (1.0,), 'address': (1.0,), 'payment_method': (1.0,)}\n",
            "[state 4] user intent: mood_great | previous action name: utter_happy | slots: {'name': (1.0,), 'address': (1.0,), 'payment_method': (1.0,)}\n",
            "[state 5] user intent: inform_product | previous action name: action_listen | slots: {'name': (1.0,), 'address': (1.0,), 'payment_method': (1.0,)}\n",
            "[state 6] user intent: inform_product | previous action name: utter_cheer_up | slots: {'name': (1.0,), 'address': (1.0,), 'payment_method': (1.0,)}\n",
            "[state 7] user intent: inform_product | previous action name: utter_did_that_help | slots: {'name': (1.0,), 'address': (1.0,), 'payment_method': (1.0,)}\n",
            "[state 8] user intent: mood_great | previous action name: action_listen | slots: {'name': (1.0,), 'address': (1.0,), 'payment_method': (1.0,)}\n",
            "[state 9] user intent: mood_great | previous action name: action_unlikely_intent | slots: {'name': (1.0,), 'address': (1.0,), 'payment_method': (1.0,)}\n",
            "[state 10] user intent: mood_great | previous action name: utter_happy | slots: {'name': (1.0,), 'address': (1.0,), 'payment_method': (1.0,)}\n",
            "2024-03-22 01:11:01 [debug    ] processor.actions.policy_prediction prediction_events=[]\n",
            "2024-03-22 01:11:01 [debug    ] processor.actions.log          action_name=action_listen rasa_events=[]\n",
            "\u001b[92mGreat, carry on!\u001b[0m\n",
            "Je voudrais commander ce produit.\n",
            "2024-03-22 01:11:20 [debug    ] processor.message.parse        parse_data_entities=[] parse_data_intent={'name': 'order_product', 'confidence': 0.9966287016868591} parse_data_text=Je voudrais commander ce produit.\n",
            "2024-03-22 01:11:20 [debug    ] processor.extract.slots        action_extract_slot=action_extract_slots len_extraction_events=3 rasa_events=[SlotSet(key: name, value: Je voudrais commander ce produit.), SlotSet(key: address, value: Je voudrais commander ce produit.), SlotSet(key: payment_method, value: Je voudrais commander ce produit.)]\n",
            "2024-03-22 01:11:20 [debug    ] memoization.predict.actions    tracker_states=[{}, {'user': {'intent': 'greet'}, 'slots': {'name': (1.0,), 'address': (1.0,), 'payment_method': (1.0,)}, 'prev_action': {'action_name': 'action_listen'}}, {'user': {'intent': 'greet'}, 'slots': {'name': (1.0,), 'address': (1.0,), 'payment_method': (1.0,)}, 'prev_action': {'action_name': 'utter_greet'}}, {'user': {'intent': 'mood_great'}, 'slots': {'name': (1.0,), 'address': (1.0,), 'payment_method': (1.0,)}, 'prev_action': {'action_name': 'action_listen'}}, {'user': {'intent': 'mood_great'}, 'slots': {'name': (1.0,), 'address': (1.0,), 'payment_method': (1.0,)}, 'prev_action': {'action_name': 'utter_happy'}}, {'user': {'intent': 'inform_product'}, 'slots': {'name': (1.0,), 'address': (1.0,), 'payment_method': (1.0,)}, 'prev_action': {'action_name': 'action_listen'}}, {'user': {'intent': 'inform_product'}, 'slots': {'name': (1.0,), 'address': (1.0,), 'payment_method': (1.0,)}, 'prev_action': {'action_name': 'utter_cheer_up'}}, {'user': {'intent': 'inform_product'}, 'slots': {'name': (1.0,), 'address': (1.0,), 'payment_method': (1.0,)}, 'prev_action': {'action_name': 'utter_did_that_help'}}, {'user': {'intent': 'mood_great'}, 'slots': {'name': (1.0,), 'address': (1.0,), 'payment_method': (1.0,)}, 'prev_action': {'action_name': 'action_listen'}}, {'user': {'intent': 'mood_great'}, 'slots': {'name': (1.0,), 'address': (1.0,), 'payment_method': (1.0,)}, 'prev_action': {'action_name': 'utter_happy'}}, {'user': {'intent': 'order_product'}, 'slots': {'name': (1.0,), 'address': (1.0,), 'payment_method': (1.0,)}, 'prev_action': {'action_name': 'action_listen'}}]\n",
            "2024-03-22 01:11:20 [debug    ] rule_policy.actions.find       current_states=\n",
            "[state 1] user intent: greet | previous action name: action_listen | slots: {'name': (1.0,), 'address': (1.0,), 'payment_method': (1.0,)}\n",
            "[state 2] user intent: greet | previous action name: utter_greet | slots: {'name': (1.0,), 'address': (1.0,), 'payment_method': (1.0,)}\n",
            "[state 3] user intent: mood_great | previous action name: action_listen | slots: {'name': (1.0,), 'address': (1.0,), 'payment_method': (1.0,)}\n",
            "[state 4] user intent: mood_great | previous action name: utter_happy | slots: {'name': (1.0,), 'address': (1.0,), 'payment_method': (1.0,)}\n",
            "[state 5] user intent: inform_product | previous action name: action_listen | slots: {'name': (1.0,), 'address': (1.0,), 'payment_method': (1.0,)}\n",
            "[state 6] user intent: inform_product | previous action name: utter_cheer_up | slots: {'name': (1.0,), 'address': (1.0,), 'payment_method': (1.0,)}\n",
            "[state 7] user intent: inform_product | previous action name: utter_did_that_help | slots: {'name': (1.0,), 'address': (1.0,), 'payment_method': (1.0,)}\n",
            "[state 8] user intent: mood_great | previous action name: action_listen | slots: {'name': (1.0,), 'address': (1.0,), 'payment_method': (1.0,)}\n",
            "[state 9] user intent: mood_great | previous action name: action_unlikely_intent | slots: {'name': (1.0,), 'address': (1.0,), 'payment_method': (1.0,)}\n",
            "[state 10] user intent: mood_great | previous action name: utter_happy | slots: {'name': (1.0,), 'address': (1.0,), 'payment_method': (1.0,)}\n",
            "[state 11] user text: Je voudrais commander ce produit. | previous action name: action_listen | slots: {'name': (1.0,), 'address': (1.0,), 'payment_method': (1.0,)}\n",
            "2024-03-22 01:11:20 [debug    ] rule_policy.actions.find       current_states=\n",
            "[state 1] user intent: greet | previous action name: action_listen | slots: {'name': (1.0,), 'address': (1.0,), 'payment_method': (1.0,)}\n",
            "[state 2] user intent: greet | previous action name: utter_greet | slots: {'name': (1.0,), 'address': (1.0,), 'payment_method': (1.0,)}\n",
            "[state 3] user intent: mood_great | previous action name: action_listen | slots: {'name': (1.0,), 'address': (1.0,), 'payment_method': (1.0,)}\n",
            "[state 4] user intent: mood_great | previous action name: utter_happy | slots: {'name': (1.0,), 'address': (1.0,), 'payment_method': (1.0,)}\n",
            "[state 5] user intent: inform_product | previous action name: action_listen | slots: {'name': (1.0,), 'address': (1.0,), 'payment_method': (1.0,)}\n",
            "[state 6] user intent: inform_product | previous action name: utter_cheer_up | slots: {'name': (1.0,), 'address': (1.0,), 'payment_method': (1.0,)}\n",
            "[state 7] user intent: inform_product | previous action name: utter_did_that_help | slots: {'name': (1.0,), 'address': (1.0,), 'payment_method': (1.0,)}\n",
            "[state 8] user intent: mood_great | previous action name: action_listen | slots: {'name': (1.0,), 'address': (1.0,), 'payment_method': (1.0,)}\n",
            "[state 9] user intent: mood_great | previous action name: action_unlikely_intent | slots: {'name': (1.0,), 'address': (1.0,), 'payment_method': (1.0,)}\n",
            "[state 10] user intent: mood_great | previous action name: utter_happy | slots: {'name': (1.0,), 'address': (1.0,), 'payment_method': (1.0,)}\n",
            "[state 11] user intent: order_product | previous action name: action_listen | slots: {'name': (1.0,), 'address': (1.0,), 'payment_method': (1.0,)}\n",
            "2024-03-22 01:11:20 [debug    ] processor.actions.policy_prediction prediction_events=[<rasa.shared.core.events.DefinePrevUserUtteredFeaturization object at 0x7d62a22d0130>]\n",
            "2024-03-22 01:11:20 [debug    ] processor.actions.log          action_name=utter_happy rasa_events=[BotUttered('Great, carry on!', {\"elements\": null, \"quick_replies\": null, \"buttons\": null, \"attachment\": null, \"image\": null, \"custom\": null}, {\"utter_action\": \"utter_happy\"}, 1711069880.2567098)]\n",
            "2024-03-22 01:11:20 [debug    ] memoization.predict.actions    tracker_states=[{}, {'user': {'intent': 'greet'}, 'slots': {'name': (1.0,), 'address': (1.0,), 'payment_method': (1.0,)}, 'prev_action': {'action_name': 'action_listen'}}, {'user': {'intent': 'greet'}, 'slots': {'name': (1.0,), 'address': (1.0,), 'payment_method': (1.0,)}, 'prev_action': {'action_name': 'utter_greet'}}, {'user': {'intent': 'mood_great'}, 'slots': {'name': (1.0,), 'address': (1.0,), 'payment_method': (1.0,)}, 'prev_action': {'action_name': 'action_listen'}}, {'user': {'intent': 'mood_great'}, 'slots': {'name': (1.0,), 'address': (1.0,), 'payment_method': (1.0,)}, 'prev_action': {'action_name': 'utter_happy'}}, {'user': {'intent': 'inform_product'}, 'slots': {'name': (1.0,), 'address': (1.0,), 'payment_method': (1.0,)}, 'prev_action': {'action_name': 'action_listen'}}, {'user': {'intent': 'inform_product'}, 'slots': {'name': (1.0,), 'address': (1.0,), 'payment_method': (1.0,)}, 'prev_action': {'action_name': 'utter_cheer_up'}}, {'user': {'intent': 'inform_product'}, 'slots': {'name': (1.0,), 'address': (1.0,), 'payment_method': (1.0,)}, 'prev_action': {'action_name': 'utter_did_that_help'}}, {'user': {'intent': 'mood_great'}, 'slots': {'name': (1.0,), 'address': (1.0,), 'payment_method': (1.0,)}, 'prev_action': {'action_name': 'action_listen'}}, {'user': {'intent': 'mood_great'}, 'slots': {'name': (1.0,), 'address': (1.0,), 'payment_method': (1.0,)}, 'prev_action': {'action_name': 'utter_happy'}}, {'user': {'intent': 'order_product'}, 'slots': {'name': (1.0,), 'address': (1.0,), 'payment_method': (1.0,)}, 'prev_action': {'action_name': 'action_listen'}}, {'user': {'intent': 'order_product'}, 'slots': {'name': (1.0,), 'address': (1.0,), 'payment_method': (1.0,)}, 'prev_action': {'action_name': 'utter_happy'}}]\n",
            "2024-03-22 01:11:20 [debug    ] rule_policy.actions.find       current_states=\n",
            "[state 1] user intent: greet | previous action name: action_listen | slots: {'name': (1.0,), 'address': (1.0,), 'payment_method': (1.0,)}\n",
            "[state 2] user intent: greet | previous action name: utter_greet | slots: {'name': (1.0,), 'address': (1.0,), 'payment_method': (1.0,)}\n",
            "[state 3] user intent: mood_great | previous action name: action_listen | slots: {'name': (1.0,), 'address': (1.0,), 'payment_method': (1.0,)}\n",
            "[state 4] user intent: mood_great | previous action name: utter_happy | slots: {'name': (1.0,), 'address': (1.0,), 'payment_method': (1.0,)}\n",
            "[state 5] user intent: inform_product | previous action name: action_listen | slots: {'name': (1.0,), 'address': (1.0,), 'payment_method': (1.0,)}\n",
            "[state 6] user intent: inform_product | previous action name: utter_cheer_up | slots: {'name': (1.0,), 'address': (1.0,), 'payment_method': (1.0,)}\n",
            "[state 7] user intent: inform_product | previous action name: utter_did_that_help | slots: {'name': (1.0,), 'address': (1.0,), 'payment_method': (1.0,)}\n",
            "[state 8] user intent: mood_great | previous action name: action_listen | slots: {'name': (1.0,), 'address': (1.0,), 'payment_method': (1.0,)}\n",
            "[state 9] user intent: mood_great | previous action name: action_unlikely_intent | slots: {'name': (1.0,), 'address': (1.0,), 'payment_method': (1.0,)}\n",
            "[state 10] user intent: mood_great | previous action name: utter_happy | slots: {'name': (1.0,), 'address': (1.0,), 'payment_method': (1.0,)}\n",
            "[state 11] user intent: order_product | previous action name: action_listen | slots: {'name': (1.0,), 'address': (1.0,), 'payment_method': (1.0,)}\n",
            "[state 12] user intent: order_product | previous action name: utter_happy | slots: {'name': (1.0,), 'address': (1.0,), 'payment_method': (1.0,)}\n",
            "2024-03-22 01:11:20 [debug    ] processor.actions.policy_prediction prediction_events=[]\n",
            "2024-03-22 01:11:20 [debug    ] processor.actions.log          action_name=action_listen rasa_events=[]\n",
            "\u001b[92mGreat, carry on!\u001b[0m\n",
            " am I talking to a human?\n",
            "2024-03-22 01:11:33 [debug    ] processor.message.parse        parse_data_entities=[] parse_data_intent={'name': 'bot_challenge', 'confidence': 0.9997687935829163} parse_data_text=am I talking to a human?\n",
            "2024-03-22 01:11:33 [debug    ] processor.extract.slots        action_extract_slot=action_extract_slots len_extraction_events=3 rasa_events=[SlotSet(key: name, value: am I talking to a human?), SlotSet(key: address, value: am I talking to a human?), SlotSet(key: payment_method, value: am I talking to a human?)]\n",
            "2024-03-22 01:11:33 [debug    ] memoization.predict.actions    tracker_states=[{}, {'user': {'intent': 'greet'}, 'slots': {'name': (1.0,), 'address': (1.0,), 'payment_method': (1.0,)}, 'prev_action': {'action_name': 'action_listen'}}, {'user': {'intent': 'greet'}, 'slots': {'name': (1.0,), 'address': (1.0,), 'payment_method': (1.0,)}, 'prev_action': {'action_name': 'utter_greet'}}, {'user': {'intent': 'mood_great'}, 'slots': {'name': (1.0,), 'address': (1.0,), 'payment_method': (1.0,)}, 'prev_action': {'action_name': 'action_listen'}}, {'user': {'intent': 'mood_great'}, 'slots': {'name': (1.0,), 'address': (1.0,), 'payment_method': (1.0,)}, 'prev_action': {'action_name': 'utter_happy'}}, {'user': {'intent': 'inform_product'}, 'slots': {'name': (1.0,), 'address': (1.0,), 'payment_method': (1.0,)}, 'prev_action': {'action_name': 'action_listen'}}, {'user': {'intent': 'inform_product'}, 'slots': {'name': (1.0,), 'address': (1.0,), 'payment_method': (1.0,)}, 'prev_action': {'action_name': 'utter_cheer_up'}}, {'user': {'intent': 'inform_product'}, 'slots': {'name': (1.0,), 'address': (1.0,), 'payment_method': (1.0,)}, 'prev_action': {'action_name': 'utter_did_that_help'}}, {'user': {'intent': 'mood_great'}, 'slots': {'name': (1.0,), 'address': (1.0,), 'payment_method': (1.0,)}, 'prev_action': {'action_name': 'action_listen'}}, {'user': {'intent': 'mood_great'}, 'slots': {'name': (1.0,), 'address': (1.0,), 'payment_method': (1.0,)}, 'prev_action': {'action_name': 'utter_happy'}}, {'user': {'intent': 'order_product'}, 'slots': {'name': (1.0,), 'address': (1.0,), 'payment_method': (1.0,)}, 'prev_action': {'action_name': 'action_listen'}}, {'user': {'intent': 'order_product'}, 'slots': {'name': (1.0,), 'address': (1.0,), 'payment_method': (1.0,)}, 'prev_action': {'action_name': 'utter_happy'}}, {'user': {'intent': 'bot_challenge'}, 'slots': {'name': (1.0,), 'address': (1.0,), 'payment_method': (1.0,)}, 'prev_action': {'action_name': 'action_listen'}}]\n",
            "2024-03-22 01:11:33 [debug    ] rule_policy.actions.find       current_states=\n",
            "[state 1] user intent: greet | previous action name: action_listen | slots: {'name': (1.0,), 'address': (1.0,), 'payment_method': (1.0,)}\n",
            "[state 2] user intent: greet | previous action name: utter_greet | slots: {'name': (1.0,), 'address': (1.0,), 'payment_method': (1.0,)}\n",
            "[state 3] user intent: mood_great | previous action name: action_listen | slots: {'name': (1.0,), 'address': (1.0,), 'payment_method': (1.0,)}\n",
            "[state 4] user intent: mood_great | previous action name: utter_happy | slots: {'name': (1.0,), 'address': (1.0,), 'payment_method': (1.0,)}\n",
            "[state 5] user intent: inform_product | previous action name: action_listen | slots: {'name': (1.0,), 'address': (1.0,), 'payment_method': (1.0,)}\n",
            "[state 6] user intent: inform_product | previous action name: utter_cheer_up | slots: {'name': (1.0,), 'address': (1.0,), 'payment_method': (1.0,)}\n",
            "[state 7] user intent: inform_product | previous action name: utter_did_that_help | slots: {'name': (1.0,), 'address': (1.0,), 'payment_method': (1.0,)}\n",
            "[state 8] user intent: mood_great | previous action name: action_listen | slots: {'name': (1.0,), 'address': (1.0,), 'payment_method': (1.0,)}\n",
            "[state 9] user intent: mood_great | previous action name: action_unlikely_intent | slots: {'name': (1.0,), 'address': (1.0,), 'payment_method': (1.0,)}\n",
            "[state 10] user intent: mood_great | previous action name: utter_happy | slots: {'name': (1.0,), 'address': (1.0,), 'payment_method': (1.0,)}\n",
            "[state 11] user intent: order_product | previous action name: action_listen | slots: {'name': (1.0,), 'address': (1.0,), 'payment_method': (1.0,)}\n",
            "[state 12] user intent: order_product | previous action name: utter_happy | slots: {'name': (1.0,), 'address': (1.0,), 'payment_method': (1.0,)}\n",
            "[state 13] user text: am I talking to a human? | previous action name: action_listen | slots: {'name': (1.0,), 'address': (1.0,), 'payment_method': (1.0,)}\n",
            "2024-03-22 01:11:33 [debug    ] rule_policy.actions.find       current_states=\n",
            "[state 1] user intent: greet | previous action name: action_listen | slots: {'name': (1.0,), 'address': (1.0,), 'payment_method': (1.0,)}\n",
            "[state 2] user intent: greet | previous action name: utter_greet | slots: {'name': (1.0,), 'address': (1.0,), 'payment_method': (1.0,)}\n",
            "[state 3] user intent: mood_great | previous action name: action_listen | slots: {'name': (1.0,), 'address': (1.0,), 'payment_method': (1.0,)}\n",
            "[state 4] user intent: mood_great | previous action name: utter_happy | slots: {'name': (1.0,), 'address': (1.0,), 'payment_method': (1.0,)}\n",
            "[state 5] user intent: inform_product | previous action name: action_listen | slots: {'name': (1.0,), 'address': (1.0,), 'payment_method': (1.0,)}\n",
            "[state 6] user intent: inform_product | previous action name: utter_cheer_up | slots: {'name': (1.0,), 'address': (1.0,), 'payment_method': (1.0,)}\n",
            "[state 7] user intent: inform_product | previous action name: utter_did_that_help | slots: {'name': (1.0,), 'address': (1.0,), 'payment_method': (1.0,)}\n",
            "[state 8] user intent: mood_great | previous action name: action_listen | slots: {'name': (1.0,), 'address': (1.0,), 'payment_method': (1.0,)}\n",
            "[state 9] user intent: mood_great | previous action name: action_unlikely_intent | slots: {'name': (1.0,), 'address': (1.0,), 'payment_method': (1.0,)}\n",
            "[state 10] user intent: mood_great | previous action name: utter_happy | slots: {'name': (1.0,), 'address': (1.0,), 'payment_method': (1.0,)}\n",
            "[state 11] user intent: order_product | previous action name: action_listen | slots: {'name': (1.0,), 'address': (1.0,), 'payment_method': (1.0,)}\n",
            "[state 12] user intent: order_product | previous action name: utter_happy | slots: {'name': (1.0,), 'address': (1.0,), 'payment_method': (1.0,)}\n",
            "[state 13] user intent: bot_challenge | previous action name: action_listen | slots: {'name': (1.0,), 'address': (1.0,), 'payment_method': (1.0,)}\n",
            "2024-03-22 01:11:34 [debug    ] processor.actions.policy_prediction prediction_events=[<rasa.shared.core.events.DefinePrevUserUtteredFeaturization object at 0x7d62a22d2680>]\n",
            "2024-03-22 01:11:34 [debug    ] processor.actions.log          action_name=utter_iamabot rasa_events=[BotUttered('I am a bot, powered by Rasa.', {\"elements\": null, \"quick_replies\": null, \"buttons\": null, \"attachment\": null, \"image\": null, \"custom\": null}, {\"utter_action\": \"utter_iamabot\"}, 1711069894.0105395)]\n",
            "2024-03-22 01:11:34 [debug    ] memoization.predict.actions    tracker_states=[{}, {'user': {'intent': 'greet'}, 'slots': {'name': (1.0,), 'address': (1.0,), 'payment_method': (1.0,)}, 'prev_action': {'action_name': 'action_listen'}}, {'user': {'intent': 'greet'}, 'slots': {'name': (1.0,), 'address': (1.0,), 'payment_method': (1.0,)}, 'prev_action': {'action_name': 'utter_greet'}}, {'user': {'intent': 'mood_great'}, 'slots': {'name': (1.0,), 'address': (1.0,), 'payment_method': (1.0,)}, 'prev_action': {'action_name': 'action_listen'}}, {'user': {'intent': 'mood_great'}, 'slots': {'name': (1.0,), 'address': (1.0,), 'payment_method': (1.0,)}, 'prev_action': {'action_name': 'utter_happy'}}, {'user': {'intent': 'inform_product'}, 'slots': {'name': (1.0,), 'address': (1.0,), 'payment_method': (1.0,)}, 'prev_action': {'action_name': 'action_listen'}}, {'user': {'intent': 'inform_product'}, 'slots': {'name': (1.0,), 'address': (1.0,), 'payment_method': (1.0,)}, 'prev_action': {'action_name': 'utter_cheer_up'}}, {'user': {'intent': 'inform_product'}, 'slots': {'name': (1.0,), 'address': (1.0,), 'payment_method': (1.0,)}, 'prev_action': {'action_name': 'utter_did_that_help'}}, {'user': {'intent': 'mood_great'}, 'slots': {'name': (1.0,), 'address': (1.0,), 'payment_method': (1.0,)}, 'prev_action': {'action_name': 'action_listen'}}, {'user': {'intent': 'mood_great'}, 'slots': {'name': (1.0,), 'address': (1.0,), 'payment_method': (1.0,)}, 'prev_action': {'action_name': 'utter_happy'}}, {'user': {'intent': 'order_product'}, 'slots': {'name': (1.0,), 'address': (1.0,), 'payment_method': (1.0,)}, 'prev_action': {'action_name': 'action_listen'}}, {'user': {'intent': 'order_product'}, 'slots': {'name': (1.0,), 'address': (1.0,), 'payment_method': (1.0,)}, 'prev_action': {'action_name': 'utter_happy'}}, {'user': {'intent': 'order_product'}, 'slots': {'name': (1.0,), 'address': (1.0,), 'payment_method': (1.0,)}, 'prev_action': {'action_name': 'action_listen'}}]\n",
            "2024-03-22 01:11:34 [debug    ] rule_policy.actions.find       current_states=\n",
            "[state 1] user intent: greet | previous action name: action_listen | slots: {'name': (1.0,), 'address': (1.0,), 'payment_method': (1.0,)}\n",
            "[state 2] user intent: greet | previous action name: utter_greet | slots: {'name': (1.0,), 'address': (1.0,), 'payment_method': (1.0,)}\n",
            "[state 3] user intent: mood_great | previous action name: action_listen | slots: {'name': (1.0,), 'address': (1.0,), 'payment_method': (1.0,)}\n",
            "[state 4] user intent: mood_great | previous action name: utter_happy | slots: {'name': (1.0,), 'address': (1.0,), 'payment_method': (1.0,)}\n",
            "[state 5] user intent: inform_product | previous action name: action_listen | slots: {'name': (1.0,), 'address': (1.0,), 'payment_method': (1.0,)}\n",
            "[state 6] user intent: inform_product | previous action name: utter_cheer_up | slots: {'name': (1.0,), 'address': (1.0,), 'payment_method': (1.0,)}\n",
            "[state 7] user intent: inform_product | previous action name: utter_did_that_help | slots: {'name': (1.0,), 'address': (1.0,), 'payment_method': (1.0,)}\n",
            "[state 8] user intent: mood_great | previous action name: action_listen | slots: {'name': (1.0,), 'address': (1.0,), 'payment_method': (1.0,)}\n",
            "[state 9] user intent: mood_great | previous action name: action_unlikely_intent | slots: {'name': (1.0,), 'address': (1.0,), 'payment_method': (1.0,)}\n",
            "[state 10] user intent: mood_great | previous action name: utter_happy | slots: {'name': (1.0,), 'address': (1.0,), 'payment_method': (1.0,)}\n",
            "[state 11] user intent: order_product | previous action name: action_listen | slots: {'name': (1.0,), 'address': (1.0,), 'payment_method': (1.0,)}\n",
            "[state 12] user intent: order_product | previous action name: utter_happy | slots: {'name': (1.0,), 'address': (1.0,), 'payment_method': (1.0,)}\n",
            "[state 13] user intent: bot_challenge | previous action name: action_listen | slots: {'name': (1.0,), 'address': (1.0,), 'payment_method': (1.0,)}\n",
            "[state 14] user intent: bot_challenge | previous action name: utter_iamabot | slots: {'name': (1.0,), 'address': (1.0,), 'payment_method': (1.0,)}\n",
            "2024-03-22 01:11:34 [debug    ] processor.actions.policy_prediction prediction_events=[]\n",
            "2024-03-22 01:11:34 [debug    ] processor.actions.log          action_name=action_listen rasa_events=[]\n",
            "\u001b[92mI am a bot, powered by Rasa.\u001b[0m\n",
            "see you later\n",
            "2024-03-22 01:11:53 [debug    ] processor.message.parse        parse_data_entities=[] parse_data_intent={'name': 'goodbye', 'confidence': 0.9999814033508301} parse_data_text=see you later\n",
            "2024-03-22 01:11:53 [debug    ] processor.extract.slots        action_extract_slot=action_extract_slots len_extraction_events=3 rasa_events=[SlotSet(key: name, value: see you later), SlotSet(key: address, value: see you later), SlotSet(key: payment_method, value: see you later)]\n",
            "2024-03-22 01:11:53 [debug    ] memoization.predict.actions    tracker_states=[{}, {'user': {'intent': 'greet'}, 'slots': {'name': (1.0,), 'address': (1.0,), 'payment_method': (1.0,)}, 'prev_action': {'action_name': 'action_listen'}}, {'user': {'intent': 'greet'}, 'slots': {'name': (1.0,), 'address': (1.0,), 'payment_method': (1.0,)}, 'prev_action': {'action_name': 'utter_greet'}}, {'user': {'intent': 'mood_great'}, 'slots': {'name': (1.0,), 'address': (1.0,), 'payment_method': (1.0,)}, 'prev_action': {'action_name': 'action_listen'}}, {'user': {'intent': 'mood_great'}, 'slots': {'name': (1.0,), 'address': (1.0,), 'payment_method': (1.0,)}, 'prev_action': {'action_name': 'utter_happy'}}, {'user': {'intent': 'inform_product'}, 'slots': {'name': (1.0,), 'address': (1.0,), 'payment_method': (1.0,)}, 'prev_action': {'action_name': 'action_listen'}}, {'user': {'intent': 'inform_product'}, 'slots': {'name': (1.0,), 'address': (1.0,), 'payment_method': (1.0,)}, 'prev_action': {'action_name': 'utter_cheer_up'}}, {'user': {'intent': 'inform_product'}, 'slots': {'name': (1.0,), 'address': (1.0,), 'payment_method': (1.0,)}, 'prev_action': {'action_name': 'utter_did_that_help'}}, {'user': {'intent': 'mood_great'}, 'slots': {'name': (1.0,), 'address': (1.0,), 'payment_method': (1.0,)}, 'prev_action': {'action_name': 'action_listen'}}, {'user': {'intent': 'mood_great'}, 'slots': {'name': (1.0,), 'address': (1.0,), 'payment_method': (1.0,)}, 'prev_action': {'action_name': 'utter_happy'}}, {'user': {'intent': 'order_product'}, 'slots': {'name': (1.0,), 'address': (1.0,), 'payment_method': (1.0,)}, 'prev_action': {'action_name': 'action_listen'}}, {'user': {'intent': 'order_product'}, 'slots': {'name': (1.0,), 'address': (1.0,), 'payment_method': (1.0,)}, 'prev_action': {'action_name': 'utter_happy'}}, {'user': {'intent': 'goodbye'}, 'slots': {'name': (1.0,), 'address': (1.0,), 'payment_method': (1.0,)}, 'prev_action': {'action_name': 'action_listen'}}]\n",
            "2024-03-22 01:11:53 [debug    ] rule_policy.actions.find       current_states=\n",
            "[state 1] user intent: greet | previous action name: action_listen | slots: {'name': (1.0,), 'address': (1.0,), 'payment_method': (1.0,)}\n",
            "[state 2] user intent: greet | previous action name: utter_greet | slots: {'name': (1.0,), 'address': (1.0,), 'payment_method': (1.0,)}\n",
            "[state 3] user intent: mood_great | previous action name: action_listen | slots: {'name': (1.0,), 'address': (1.0,), 'payment_method': (1.0,)}\n",
            "[state 4] user intent: mood_great | previous action name: utter_happy | slots: {'name': (1.0,), 'address': (1.0,), 'payment_method': (1.0,)}\n",
            "[state 5] user intent: inform_product | previous action name: action_listen | slots: {'name': (1.0,), 'address': (1.0,), 'payment_method': (1.0,)}\n",
            "[state 6] user intent: inform_product | previous action name: utter_cheer_up | slots: {'name': (1.0,), 'address': (1.0,), 'payment_method': (1.0,)}\n",
            "[state 7] user intent: inform_product | previous action name: utter_did_that_help | slots: {'name': (1.0,), 'address': (1.0,), 'payment_method': (1.0,)}\n",
            "[state 8] user intent: mood_great | previous action name: action_listen | slots: {'name': (1.0,), 'address': (1.0,), 'payment_method': (1.0,)}\n",
            "[state 9] user intent: mood_great | previous action name: action_unlikely_intent | slots: {'name': (1.0,), 'address': (1.0,), 'payment_method': (1.0,)}\n",
            "[state 10] user intent: mood_great | previous action name: utter_happy | slots: {'name': (1.0,), 'address': (1.0,), 'payment_method': (1.0,)}\n",
            "[state 11] user intent: order_product | previous action name: action_listen | slots: {'name': (1.0,), 'address': (1.0,), 'payment_method': (1.0,)}\n",
            "[state 12] user intent: order_product | previous action name: utter_happy | slots: {'name': (1.0,), 'address': (1.0,), 'payment_method': (1.0,)}\n",
            "[state 13] user intent: bot_challenge | previous action name: action_listen | slots: {'name': (1.0,), 'address': (1.0,), 'payment_method': (1.0,)}\n",
            "[state 14] user intent: bot_challenge | previous action name: utter_iamabot | slots: {'name': (1.0,), 'address': (1.0,), 'payment_method': (1.0,)}\n",
            "[state 15] user text: see you later | previous action name: action_listen | slots: {'name': (1.0,), 'address': (1.0,), 'payment_method': (1.0,)}\n",
            "2024-03-22 01:11:53 [debug    ] rule_policy.actions.find       current_states=\n",
            "[state 1] user intent: greet | previous action name: action_listen | slots: {'name': (1.0,), 'address': (1.0,), 'payment_method': (1.0,)}\n",
            "[state 2] user intent: greet | previous action name: utter_greet | slots: {'name': (1.0,), 'address': (1.0,), 'payment_method': (1.0,)}\n",
            "[state 3] user intent: mood_great | previous action name: action_listen | slots: {'name': (1.0,), 'address': (1.0,), 'payment_method': (1.0,)}\n",
            "[state 4] user intent: mood_great | previous action name: utter_happy | slots: {'name': (1.0,), 'address': (1.0,), 'payment_method': (1.0,)}\n",
            "[state 5] user intent: inform_product | previous action name: action_listen | slots: {'name': (1.0,), 'address': (1.0,), 'payment_method': (1.0,)}\n",
            "[state 6] user intent: inform_product | previous action name: utter_cheer_up | slots: {'name': (1.0,), 'address': (1.0,), 'payment_method': (1.0,)}\n",
            "[state 7] user intent: inform_product | previous action name: utter_did_that_help | slots: {'name': (1.0,), 'address': (1.0,), 'payment_method': (1.0,)}\n",
            "[state 8] user intent: mood_great | previous action name: action_listen | slots: {'name': (1.0,), 'address': (1.0,), 'payment_method': (1.0,)}\n",
            "[state 9] user intent: mood_great | previous action name: action_unlikely_intent | slots: {'name': (1.0,), 'address': (1.0,), 'payment_method': (1.0,)}\n",
            "[state 10] user intent: mood_great | previous action name: utter_happy | slots: {'name': (1.0,), 'address': (1.0,), 'payment_method': (1.0,)}\n",
            "[state 11] user intent: order_product | previous action name: action_listen | slots: {'name': (1.0,), 'address': (1.0,), 'payment_method': (1.0,)}\n",
            "[state 12] user intent: order_product | previous action name: utter_happy | slots: {'name': (1.0,), 'address': (1.0,), 'payment_method': (1.0,)}\n",
            "[state 13] user intent: bot_challenge | previous action name: action_listen | slots: {'name': (1.0,), 'address': (1.0,), 'payment_method': (1.0,)}\n",
            "[state 14] user intent: bot_challenge | previous action name: utter_iamabot | slots: {'name': (1.0,), 'address': (1.0,), 'payment_method': (1.0,)}\n",
            "[state 15] user intent: goodbye | previous action name: action_listen | slots: {'name': (1.0,), 'address': (1.0,), 'payment_method': (1.0,)}\n",
            "2024-03-22 01:11:53 [debug    ] processor.actions.policy_prediction prediction_events=[<rasa.shared.core.events.DefinePrevUserUtteredFeaturization object at 0x7d62a22d3070>]\n",
            "2024-03-22 01:11:53 [debug    ] processor.actions.log          action_name=utter_goodbye rasa_events=[BotUttered('Bye', {\"elements\": null, \"quick_replies\": null, \"buttons\": null, \"attachment\": null, \"image\": null, \"custom\": null}, {\"utter_action\": \"utter_goodbye\"}, 1711069913.0837986)]\n",
            "2024-03-22 01:11:53 [debug    ] memoization.predict.actions    tracker_states=[{}, {'user': {'intent': 'greet'}, 'slots': {'name': (1.0,), 'address': (1.0,), 'payment_method': (1.0,)}, 'prev_action': {'action_name': 'action_listen'}}, {'user': {'intent': 'greet'}, 'slots': {'name': (1.0,), 'address': (1.0,), 'payment_method': (1.0,)}, 'prev_action': {'action_name': 'utter_greet'}}, {'user': {'intent': 'mood_great'}, 'slots': {'name': (1.0,), 'address': (1.0,), 'payment_method': (1.0,)}, 'prev_action': {'action_name': 'action_listen'}}, {'user': {'intent': 'mood_great'}, 'slots': {'name': (1.0,), 'address': (1.0,), 'payment_method': (1.0,)}, 'prev_action': {'action_name': 'utter_happy'}}, {'user': {'intent': 'inform_product'}, 'slots': {'name': (1.0,), 'address': (1.0,), 'payment_method': (1.0,)}, 'prev_action': {'action_name': 'action_listen'}}, {'user': {'intent': 'inform_product'}, 'slots': {'name': (1.0,), 'address': (1.0,), 'payment_method': (1.0,)}, 'prev_action': {'action_name': 'utter_cheer_up'}}, {'user': {'intent': 'inform_product'}, 'slots': {'name': (1.0,), 'address': (1.0,), 'payment_method': (1.0,)}, 'prev_action': {'action_name': 'utter_did_that_help'}}, {'user': {'intent': 'mood_great'}, 'slots': {'name': (1.0,), 'address': (1.0,), 'payment_method': (1.0,)}, 'prev_action': {'action_name': 'action_listen'}}, {'user': {'intent': 'mood_great'}, 'slots': {'name': (1.0,), 'address': (1.0,), 'payment_method': (1.0,)}, 'prev_action': {'action_name': 'utter_happy'}}, {'user': {'intent': 'order_product'}, 'slots': {'name': (1.0,), 'address': (1.0,), 'payment_method': (1.0,)}, 'prev_action': {'action_name': 'action_listen'}}, {'user': {'intent': 'order_product'}, 'slots': {'name': (1.0,), 'address': (1.0,), 'payment_method': (1.0,)}, 'prev_action': {'action_name': 'utter_happy'}}, {'user': {'intent': 'order_product'}, 'slots': {'name': (1.0,), 'address': (1.0,), 'payment_method': (1.0,)}, 'prev_action': {'action_name': 'action_listen'}}]\n",
            "2024-03-22 01:11:53 [debug    ] rule_policy.actions.find       current_states=\n",
            "[state 1] user intent: greet | previous action name: action_listen | slots: {'name': (1.0,), 'address': (1.0,), 'payment_method': (1.0,)}\n",
            "[state 2] user intent: greet | previous action name: utter_greet | slots: {'name': (1.0,), 'address': (1.0,), 'payment_method': (1.0,)}\n",
            "[state 3] user intent: mood_great | previous action name: action_listen | slots: {'name': (1.0,), 'address': (1.0,), 'payment_method': (1.0,)}\n",
            "[state 4] user intent: mood_great | previous action name: utter_happy | slots: {'name': (1.0,), 'address': (1.0,), 'payment_method': (1.0,)}\n",
            "[state 5] user intent: inform_product | previous action name: action_listen | slots: {'name': (1.0,), 'address': (1.0,), 'payment_method': (1.0,)}\n",
            "[state 6] user intent: inform_product | previous action name: utter_cheer_up | slots: {'name': (1.0,), 'address': (1.0,), 'payment_method': (1.0,)}\n",
            "[state 7] user intent: inform_product | previous action name: utter_did_that_help | slots: {'name': (1.0,), 'address': (1.0,), 'payment_method': (1.0,)}\n",
            "[state 8] user intent: mood_great | previous action name: action_listen | slots: {'name': (1.0,), 'address': (1.0,), 'payment_method': (1.0,)}\n",
            "[state 9] user intent: mood_great | previous action name: action_unlikely_intent | slots: {'name': (1.0,), 'address': (1.0,), 'payment_method': (1.0,)}\n",
            "[state 10] user intent: mood_great | previous action name: utter_happy | slots: {'name': (1.0,), 'address': (1.0,), 'payment_method': (1.0,)}\n",
            "[state 11] user intent: order_product | previous action name: action_listen | slots: {'name': (1.0,), 'address': (1.0,), 'payment_method': (1.0,)}\n",
            "[state 12] user intent: order_product | previous action name: utter_happy | slots: {'name': (1.0,), 'address': (1.0,), 'payment_method': (1.0,)}\n",
            "[state 13] user intent: bot_challenge | previous action name: action_listen | slots: {'name': (1.0,), 'address': (1.0,), 'payment_method': (1.0,)}\n",
            "[state 14] user intent: bot_challenge | previous action name: utter_iamabot | slots: {'name': (1.0,), 'address': (1.0,), 'payment_method': (1.0,)}\n",
            "[state 15] user intent: goodbye | previous action name: action_listen | slots: {'name': (1.0,), 'address': (1.0,), 'payment_method': (1.0,)}\n",
            "[state 16] user intent: goodbye | previous action name: utter_goodbye | slots: {'name': (1.0,), 'address': (1.0,), 'payment_method': (1.0,)}\n",
            "2024-03-22 01:11:53 [debug    ] processor.actions.policy_prediction prediction_events=[]\n",
            "2024-03-22 01:11:53 [debug    ] processor.actions.log          action_name=action_listen rasa_events=[]\n",
            "\u001b[92mBye\u001b[0m\n"
          ]
        }
      ]
    }
  ]
}