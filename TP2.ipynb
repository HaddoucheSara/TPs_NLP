{
  "nbformat": 4,
  "nbformat_minor": 0,
  "metadata": {
    "colab": {
      "provenance": [],
      "authorship_tag": "ABX9TyNM+8gB1bNTOA5J0N8F3pEt",
      "include_colab_link": true
    },
    "kernelspec": {
      "name": "python3",
      "display_name": "Python 3"
    },
    "language_info": {
      "name": "python"
    }
  },
  "cells": [
    {
      "cell_type": "markdown",
      "metadata": {
        "id": "view-in-github",
        "colab_type": "text"
      },
      "source": [
        "<a href=\"https://colab.research.google.com/github/HaddoucheSara/TPs_NLP/blob/main/TP2.ipynb\" target=\"_parent\"><img src=\"https://colab.research.google.com/assets/colab-badge.svg\" alt=\"Open In Colab\"/></a>"
      ]
    },
    {
      "cell_type": "code",
      "source": [
        "#Gensim est déjà installé dans mon environnement Python"
      ],
      "metadata": {
        "id": "oqUY1Nmdp0VQ"
      },
      "execution_count": null,
      "outputs": []
    },
    {
      "cell_type": "code",
      "source": [
        "import nltk\n",
        "from nltk.tokenize import word_tokenize\n",
        "from nltk.corpus import stopwords\n",
        "from nltk.stem import WordNetLemmatizer\n",
        "from gensim.models import Word2Vec\n",
        "\n",
        "#Charger le texte a partir du fichier text\n",
        "with open('/content/text', 'r', encoding='utf-8') as file:\n",
        "     text = file.read()\n",
        "# Tokenize le texte\n",
        "     nltk.download('punkt')\n",
        "     tokenized_text = word_tokenize(text)\n",
        "     print(tokenized_text )\n"
      ],
      "metadata": {
        "colab": {
          "base_uri": "https://localhost:8080/"
        },
        "id": "3QGPTGWqoeYW",
        "outputId": "4aba0aab-e099-4cc6-a063-0a6321b08b95"
      },
      "execution_count": 2,
      "outputs": [
        {
          "output_type": "stream",
          "name": "stderr",
          "text": [
            "[nltk_data] Downloading package punkt to /root/nltk_data...\n",
            "[nltk_data]   Unzipping tokenizers/punkt.zip.\n"
          ]
        },
        {
          "output_type": "stream",
          "name": "stdout",
          "text": [
            "['*', '*', 'Morocco', 'and', 'Marrakech', ':', 'A', 'Tapestry', 'of', 'Tradition', 'and', 'Modernity', '*', '*', 'Morocco', ',', 'located', 'at', 'the', 'crossroads', 'of', 'Europe', 'and', 'Africa', ',', 'is', 'a', 'country', 'drenched', 'in', 'history', ',', 'mystery', ',', 'and', 'cultural', 'richness', '.', 'A', 'testament', 'to', 'the', 'ancient', 'civilizations', 'that', 'once', 'flourished', 'here', ',', 'this', 'North', 'African', 'kingdom', 'boasts', 'a', 'unique', 'blend', 'of', 'Arab', ',', 'Berber', ',', 'and', 'European', 'influences', '.', 'At', 'the', 'heart', 'of', 'Morocco', \"'s\", 'rich', 'tapestry', 'lies', 'Marrakech', ',', 'one', 'of', 'its', 'four', 'imperial', 'cities', 'and', 'a', 'vibrant', 'epicenter', 'of', 'tradition', 'and', 'modernity', '.', '*', '*', 'Geographical', 'Significance', '*', '*', 'Morocco', 'is', 'bordered', 'by', 'the', 'Atlantic', 'Ocean', 'to', 'the', 'west', ',', 'the', 'Mediterranean', 'Sea', 'to', 'the', 'north', ',', 'Algeria', 'to', 'the', 'east', 'and', 'southeast', ',', 'and', 'the', 'vast', 'Sahara', 'desert', 'to', 'the', 'south', '.', 'Its', 'strategic', 'location', 'has', 'historically', 'made', 'it', 'a', 'sought-after', 'territory', 'and', 'a', 'melting', 'pot', 'of', 'cultures', ',', 'religions', ',', 'and', 'trade', 'routes', '.', '*', '*', 'Marrakech', ':', 'The', 'Red', 'City', '*', '*', 'Marrakech', ',', 'often', 'referred', 'to', 'as', '``', 'The', 'Red', 'City', \"''\", 'due', 'to', 'its', 'distinctive', 'red-hued', 'buildings', ',', 'stands', 'against', 'the', 'backdrop', 'of', 'the', 'snow-capped', 'Atlas', 'Mountains', '.', 'Established', 'in', 'the', '11th', 'century', ',', 'it', 'has', 'remained', 'a', 'crucial', 'political', ',', 'economic', ',', 'and', 'cultural', 'center', 'of', 'Morocco', '.', '*', '*', 'Journey', 'through', 'the', 'Medina', '*', '*', 'Marrakech', \"'s\", 'old', 'town', ',', 'the', 'Medina', ',', 'is', 'a', 'UNESCO', 'World', 'Heritage', 'site', 'and', 'a', 'labyrinthine', 'maze', 'of', 'narrow', 'alleys', ',', 'bustling', 'souks', ',', 'and', 'historical', 'landmarks', '.', 'The', 'Djemaa', 'el-Fna', 'Square', 'lies', 'at', 'the', 'heart', 'of', 'the', 'Medina', 'and', 'comes', 'alive', 'every', 'evening', 'with', 'storytellers', ',', 'musicians', ',', 'snake', 'charmers', ',', 'and', 'food', 'stalls', 'offering', 'tantalizing', 'Moroccan', 'delicacies', '.', '*', '*', 'Palaces', 'and', 'Gardens', '*', '*', 'The', 'city', 'is', 'also', 'home', 'to', 'grand', 'palaces', 'like', 'the', 'Bahia', 'Palace', ',', 'showcasing', 'intricate', 'Islamic', 'architecture', ',', 'and', 'the', 'Saadian', 'Tombs', ',', 'remnants', 'of', 'the', 'Saadian', 'dynasty', '.', 'The', 'Majorelle', 'Garden', ',', 'restored', 'by', 'the', 'fashion', 'designer', 'Yves', 'Saint', 'Laurent', ',', 'is', 'a', 'tranquil', 'oasis', 'of', 'cacti', ',', 'palm', 'trees', ',', 'and', 'cobalt', 'blue', 'accents', '.', '*', '*', 'Modern', 'Marrakech', '*', '*', 'While', 'tradition', 'and', 'history', 'permeate', 'Marrakech', ',', 'the', 'city', 'is', 'not', 'averse', 'to', 'the', 'modern', 'world', '.', 'Gueliz', ',', 'the', 'new', 'town', ',', 'is', 'brimming', 'with', 'contemporary', 'art', 'galleries', ',', 'stylish', 'cafes', ',', 'and', 'chic', 'boutiques', ',', 'offering', 'a', 'stark', 'contrast', 'to', 'the', 'ancient', 'Medina', '.', '*', '*', 'Moroccan', 'Cuisine', '*', '*', 'No', 'journey', 'through', 'Morocco', 'and', 'Marrakech', 'would', 'be', 'complete', 'without', 'indulging', 'in', 'the', 'local', 'cuisine', '.', 'Tagines', ',', 'couscous', ',', 'and', 'pastilla', 'are', 'just', 'a', 'few', 'of', 'the', 'many', 'dishes', 'that', 'combine', 'a', 'plethora', 'of', 'flavors', 'and', 'spices', 'like', 'saffron', ',', 'cumin', ',', 'and', 'mint', '.', 'Paired', 'with', 'Moroccan', 'mint', 'tea', ',', 'the', 'culinary', 'experience', 'is', 'truly', 'unparalleled', '.', '*', '*', 'In', 'Conclusion', '*', '*', 'Morocco', ',', 'with', 'Marrakech', 'at', 'its', 'heart', ',', 'offers', 'travelers', 'an', 'unparalleled', 'journey', 'through', 'time', '.', 'The', 'convergence', 'of', 'history', ',', 'culture', ',', 'architecture', ',', 'and', 'gastronomy', 'makes', 'it', 'an', 'enthralling', 'destination', 'for', 'those', 'seeking', 'both', 'adventure', 'and', 'reflection', '.', 'As', 'the', 'Moroccan', 'proverb', 'goes', ',', '``', 'He', 'who', 'does', 'not', 'travel', 'does', 'not', 'know', 'the', 'value', 'of', 'men', '.', \"''\", 'In', 'the', 'case', 'of', 'Morocco', 'and', 'Marrakech', ',', 'it', \"'s\", 'not', 'just', 'the', 'value', 'of', 'men', ',', 'but', 'also', 'the', 'value', 'of', 'time', ',', 'tradition', ',', 'and', 'tales', 'that', 'have', 'spanned', 'centuries', '.']\n"
          ]
        }
      ]
    },
    {
      "cell_type": "code",
      "source": [
        "# Supprimer la ponctuation\n",
        "tokenized_text = [word.lower() for word in tokenized_text if word.isalnum()]\n",
        "print(tokenized_text)\n"
      ],
      "metadata": {
        "colab": {
          "base_uri": "https://localhost:8080/"
        },
        "id": "_hjxa0covQOt",
        "outputId": "6a79b26e-d5ab-4a7c-e19d-b46a5e418684"
      },
      "execution_count": 3,
      "outputs": [
        {
          "output_type": "stream",
          "name": "stdout",
          "text": [
            "['morocco', 'and', 'marrakech', 'a', 'tapestry', 'of', 'tradition', 'and', 'modernity', 'morocco', 'located', 'at', 'the', 'crossroads', 'of', 'europe', 'and', 'africa', 'is', 'a', 'country', 'drenched', 'in', 'history', 'mystery', 'and', 'cultural', 'richness', 'a', 'testament', 'to', 'the', 'ancient', 'civilizations', 'that', 'once', 'flourished', 'here', 'this', 'north', 'african', 'kingdom', 'boasts', 'a', 'unique', 'blend', 'of', 'arab', 'berber', 'and', 'european', 'influences', 'at', 'the', 'heart', 'of', 'morocco', 'rich', 'tapestry', 'lies', 'marrakech', 'one', 'of', 'its', 'four', 'imperial', 'cities', 'and', 'a', 'vibrant', 'epicenter', 'of', 'tradition', 'and', 'modernity', 'geographical', 'significance', 'morocco', 'is', 'bordered', 'by', 'the', 'atlantic', 'ocean', 'to', 'the', 'west', 'the', 'mediterranean', 'sea', 'to', 'the', 'north', 'algeria', 'to', 'the', 'east', 'and', 'southeast', 'and', 'the', 'vast', 'sahara', 'desert', 'to', 'the', 'south', 'its', 'strategic', 'location', 'has', 'historically', 'made', 'it', 'a', 'territory', 'and', 'a', 'melting', 'pot', 'of', 'cultures', 'religions', 'and', 'trade', 'routes', 'marrakech', 'the', 'red', 'city', 'marrakech', 'often', 'referred', 'to', 'as', 'the', 'red', 'city', 'due', 'to', 'its', 'distinctive', 'buildings', 'stands', 'against', 'the', 'backdrop', 'of', 'the', 'atlas', 'mountains', 'established', 'in', 'the', '11th', 'century', 'it', 'has', 'remained', 'a', 'crucial', 'political', 'economic', 'and', 'cultural', 'center', 'of', 'morocco', 'journey', 'through', 'the', 'medina', 'marrakech', 'old', 'town', 'the', 'medina', 'is', 'a', 'unesco', 'world', 'heritage', 'site', 'and', 'a', 'labyrinthine', 'maze', 'of', 'narrow', 'alleys', 'bustling', 'souks', 'and', 'historical', 'landmarks', 'the', 'djemaa', 'square', 'lies', 'at', 'the', 'heart', 'of', 'the', 'medina', 'and', 'comes', 'alive', 'every', 'evening', 'with', 'storytellers', 'musicians', 'snake', 'charmers', 'and', 'food', 'stalls', 'offering', 'tantalizing', 'moroccan', 'delicacies', 'palaces', 'and', 'gardens', 'the', 'city', 'is', 'also', 'home', 'to', 'grand', 'palaces', 'like', 'the', 'bahia', 'palace', 'showcasing', 'intricate', 'islamic', 'architecture', 'and', 'the', 'saadian', 'tombs', 'remnants', 'of', 'the', 'saadian', 'dynasty', 'the', 'majorelle', 'garden', 'restored', 'by', 'the', 'fashion', 'designer', 'yves', 'saint', 'laurent', 'is', 'a', 'tranquil', 'oasis', 'of', 'cacti', 'palm', 'trees', 'and', 'cobalt', 'blue', 'accents', 'modern', 'marrakech', 'while', 'tradition', 'and', 'history', 'permeate', 'marrakech', 'the', 'city', 'is', 'not', 'averse', 'to', 'the', 'modern', 'world', 'gueliz', 'the', 'new', 'town', 'is', 'brimming', 'with', 'contemporary', 'art', 'galleries', 'stylish', 'cafes', 'and', 'chic', 'boutiques', 'offering', 'a', 'stark', 'contrast', 'to', 'the', 'ancient', 'medina', 'moroccan', 'cuisine', 'no', 'journey', 'through', 'morocco', 'and', 'marrakech', 'would', 'be', 'complete', 'without', 'indulging', 'in', 'the', 'local', 'cuisine', 'tagines', 'couscous', 'and', 'pastilla', 'are', 'just', 'a', 'few', 'of', 'the', 'many', 'dishes', 'that', 'combine', 'a', 'plethora', 'of', 'flavors', 'and', 'spices', 'like', 'saffron', 'cumin', 'and', 'mint', 'paired', 'with', 'moroccan', 'mint', 'tea', 'the', 'culinary', 'experience', 'is', 'truly', 'unparalleled', 'in', 'conclusion', 'morocco', 'with', 'marrakech', 'at', 'its', 'heart', 'offers', 'travelers', 'an', 'unparalleled', 'journey', 'through', 'time', 'the', 'convergence', 'of', 'history', 'culture', 'architecture', 'and', 'gastronomy', 'makes', 'it', 'an', 'enthralling', 'destination', 'for', 'those', 'seeking', 'both', 'adventure', 'and', 'reflection', 'as', 'the', 'moroccan', 'proverb', 'goes', 'he', 'who', 'does', 'not', 'travel', 'does', 'not', 'know', 'the', 'value', 'of', 'men', 'in', 'the', 'case', 'of', 'morocco', 'and', 'marrakech', 'it', 'not', 'just', 'the', 'value', 'of', 'men', 'but', 'also', 'the', 'value', 'of', 'time', 'tradition', 'and', 'tales', 'that', 'have', 'spanned', 'centuries']\n"
          ]
        }
      ]
    },
    {
      "cell_type": "code",
      "source": [
        "# Supprimer les mots vides (stop words)\n",
        "nltk.download('stopwords')\n",
        "stop_words = set(stopwords.words('english'))\n",
        "tokenized_text = [word for word in tokenized_text if word not in stop_words]"
      ],
      "metadata": {
        "colab": {
          "base_uri": "https://localhost:8080/"
        },
        "id": "gIAHOhvPvmM-",
        "outputId": "61a72eff-0681-4230-ec60-6ee976748887"
      },
      "execution_count": 4,
      "outputs": [
        {
          "output_type": "stream",
          "name": "stderr",
          "text": [
            "[nltk_data] Downloading package stopwords to /root/nltk_data...\n",
            "[nltk_data]   Unzipping corpora/stopwords.zip.\n"
          ]
        }
      ]
    },
    {
      "cell_type": "code",
      "source": [
        "# Lemmatisation\n",
        "nltk.download('wordnet')\n",
        "lemmatizer = WordNetLemmatizer()\n",
        "tokenized_text = [lemmatizer.lemmatize(word) for word in tokenized_text]\n",
        "print(tokenized_text)"
      ],
      "metadata": {
        "colab": {
          "base_uri": "https://localhost:8080/"
        },
        "id": "3V8wrTHzwLI8",
        "outputId": "bd1181de-6c54-481e-80c2-4eca87dde5ee"
      },
      "execution_count": 5,
      "outputs": [
        {
          "output_type": "stream",
          "name": "stderr",
          "text": [
            "[nltk_data] Downloading package wordnet to /root/nltk_data...\n"
          ]
        },
        {
          "output_type": "stream",
          "name": "stdout",
          "text": [
            "['morocco', 'marrakech', 'tapestry', 'tradition', 'modernity', 'morocco', 'located', 'crossroad', 'europe', 'africa', 'country', 'drenched', 'history', 'mystery', 'cultural', 'richness', 'testament', 'ancient', 'civilization', 'flourished', 'north', 'african', 'kingdom', 'boast', 'unique', 'blend', 'arab', 'berber', 'european', 'influence', 'heart', 'morocco', 'rich', 'tapestry', 'lie', 'marrakech', 'one', 'four', 'imperial', 'city', 'vibrant', 'epicenter', 'tradition', 'modernity', 'geographical', 'significance', 'morocco', 'bordered', 'atlantic', 'ocean', 'west', 'mediterranean', 'sea', 'north', 'algeria', 'east', 'southeast', 'vast', 'sahara', 'desert', 'south', 'strategic', 'location', 'historically', 'made', 'territory', 'melting', 'pot', 'culture', 'religion', 'trade', 'route', 'marrakech', 'red', 'city', 'marrakech', 'often', 'referred', 'red', 'city', 'due', 'distinctive', 'building', 'stand', 'backdrop', 'atlas', 'mountain', 'established', '11th', 'century', 'remained', 'crucial', 'political', 'economic', 'cultural', 'center', 'morocco', 'journey', 'medina', 'marrakech', 'old', 'town', 'medina', 'unesco', 'world', 'heritage', 'site', 'labyrinthine', 'maze', 'narrow', 'alley', 'bustling', 'souk', 'historical', 'landmark', 'djemaa', 'square', 'lie', 'heart', 'medina', 'come', 'alive', 'every', 'evening', 'storyteller', 'musician', 'snake', 'charmer', 'food', 'stall', 'offering', 'tantalizing', 'moroccan', 'delicacy', 'palace', 'garden', 'city', 'also', 'home', 'grand', 'palace', 'like', 'bahia', 'palace', 'showcasing', 'intricate', 'islamic', 'architecture', 'saadian', 'tomb', 'remnant', 'saadian', 'dynasty', 'majorelle', 'garden', 'restored', 'fashion', 'designer', 'yves', 'saint', 'laurent', 'tranquil', 'oasis', 'cactus', 'palm', 'tree', 'cobalt', 'blue', 'accent', 'modern', 'marrakech', 'tradition', 'history', 'permeate', 'marrakech', 'city', 'averse', 'modern', 'world', 'gueliz', 'new', 'town', 'brimming', 'contemporary', 'art', 'gallery', 'stylish', 'cafe', 'chic', 'boutique', 'offering', 'stark', 'contrast', 'ancient', 'medina', 'moroccan', 'cuisine', 'journey', 'morocco', 'marrakech', 'would', 'complete', 'without', 'indulging', 'local', 'cuisine', 'tagines', 'couscous', 'pastilla', 'many', 'dish', 'combine', 'plethora', 'flavor', 'spice', 'like', 'saffron', 'cumin', 'mint', 'paired', 'moroccan', 'mint', 'tea', 'culinary', 'experience', 'truly', 'unparalleled', 'conclusion', 'morocco', 'marrakech', 'heart', 'offer', 'traveler', 'unparalleled', 'journey', 'time', 'convergence', 'history', 'culture', 'architecture', 'gastronomy', 'make', 'enthralling', 'destination', 'seeking', 'adventure', 'reflection', 'moroccan', 'proverb', 'go', 'travel', 'know', 'value', 'men', 'case', 'morocco', 'marrakech', 'value', 'men', 'also', 'value', 'time', 'tradition', 'tale', 'spanned', 'century']\n"
          ]
        }
      ]
    },
    {
      "cell_type": "code",
      "source": [
        "# Entraîner le modèle Word2Vec\n",
        "model = Word2Vec([tokenized_text], vector_size=100, window=5, min_count=1, workers=4)"
      ],
      "metadata": {
        "id": "RYrdnYrrv01E"
      },
      "execution_count": 6,
      "outputs": []
    },
    {
      "cell_type": "code",
      "source": [
        "#Extraire la représentation vectorielle d'un mot\n",
        "word_representation = model.wv['morocco']\n",
        "print(\"Vector representation of 'Morocco':\", word_representation)"
      ],
      "metadata": {
        "colab": {
          "base_uri": "https://localhost:8080/"
        },
        "id": "MyTtz81QxL19",
        "outputId": "8f96b43a-30bf-40f6-9443-4ff873b28b85"
      },
      "execution_count": 7,
      "outputs": [
        {
          "output_type": "stream",
          "name": "stdout",
          "text": [
            "Vector representation of 'Morocco': [-8.65116529e-03  3.68486368e-03  5.20777097e-03  5.74720697e-03\n",
            "  7.49610364e-03 -6.24345103e-03  1.13604625e-03  6.17964379e-03\n",
            " -2.91904295e-03 -6.19206438e-03 -4.32030502e-04 -8.46609846e-03\n",
            " -5.60772559e-03  7.16376211e-03  3.35016008e-03  7.21497182e-03\n",
            "  6.81319134e-03  7.46733323e-03 -3.78268003e-03 -6.96507690e-04\n",
            "  2.32675602e-03 -4.52336203e-03  8.36838409e-03 -9.86783858e-03\n",
            "  6.72362186e-03  2.92393868e-03 -4.93040122e-03  4.31788526e-03\n",
            " -1.80598244e-03  6.72886102e-03  1.00265695e-02 -4.35118936e-03\n",
            " -5.58793894e-04 -5.74235339e-03  3.79795977e-03  2.88659171e-03\n",
            "  6.88600866e-03  6.06813375e-03  9.53048747e-03  9.16458666e-03\n",
            "  7.85708800e-03 -7.10835494e-03 -9.17571876e-03 -3.38136393e-04\n",
            " -3.06537282e-03  7.88822398e-03  5.93330897e-03 -1.59156648e-03\n",
            "  1.50276208e-03  1.82465080e-03  7.85914995e-03 -9.52004828e-03\n",
            " -1.61801159e-04  3.45707894e-03 -9.68277629e-04  8.43883026e-03\n",
            "  9.01743490e-03  6.52140798e-03 -7.44356541e-04  7.76049960e-03\n",
            " -8.56421608e-03  3.24250967e-03 -4.63599525e-03 -5.10927662e-03\n",
            "  3.48794460e-03  5.39164525e-03  7.82553572e-03 -5.69435162e-03\n",
            "  7.40822079e-03  6.68930309e-03 -3.75809311e-03 -8.74690991e-03\n",
            "  5.44688385e-03  6.51517697e-03 -6.98050193e-04 -6.61995215e-03\n",
            " -7.06659723e-03 -2.52012047e-03  5.08507434e-03 -3.62502970e-03\n",
            " -9.36046056e-03  3.87065415e-03  4.87683993e-03 -6.34124409e-03\n",
            "  1.18452113e-03 -2.06684903e-03  7.42264383e-05 -9.80592612e-03\n",
            "  2.78860168e-03 -4.73013101e-03  1.16943370e-03 -1.52659032e-03\n",
            "  2.19094707e-03 -7.83087034e-03 -2.64283968e-03  2.76256050e-03\n",
            "  5.41657209e-03 -2.44931993e-03 -9.48465057e-03  4.49807476e-03]\n"
          ]
        }
      ]
    },
    {
      "cell_type": "code",
      "source": [
        "#Calculer la similarité entre deux mots\n",
        "similarity_score = model.wv.similarity('morocco', 'marrakech')\n",
        "print(\"Similarity between 'Morocco' and 'Marrakech':\", similarity_score)"
      ],
      "metadata": {
        "colab": {
          "base_uri": "https://localhost:8080/"
        },
        "id": "BrKMXwHfxSKy",
        "outputId": "f81d0bf4-5c40-41e4-d102-d5d24e3de39c"
      },
      "execution_count": 8,
      "outputs": [
        {
          "output_type": "stream",
          "name": "stdout",
          "text": [
            "Similarity between 'Morocco' and 'Marrakech': -0.008531047\n"
          ]
        }
      ]
    },
    {
      "cell_type": "code",
      "source": [
        "# Extraire les mots contextuels (les plus similaires) pour un mot central donné\n",
        "similar_words = model.wv.most_similar('morocco', topn=5)\n",
        "print(\"Most similar words to 'Morocco':\", similar_words)"
      ],
      "metadata": {
        "colab": {
          "base_uri": "https://localhost:8080/"
        },
        "id": "LKETiE_uxgct",
        "outputId": "eeecc149-797c-41c0-bd79-6a0689319113"
      },
      "execution_count": 9,
      "outputs": [
        {
          "output_type": "stream",
          "name": "stdout",
          "text": [
            "Most similar words to 'Morocco': [('gastronomy', 0.2156553566455841), ('red', 0.18849706649780273), ('time', 0.18843454122543335), ('bordered', 0.18469083309173584), ('crucial', 0.18357038497924805)]\n"
          ]
        }
      ]
    }
  ]
}